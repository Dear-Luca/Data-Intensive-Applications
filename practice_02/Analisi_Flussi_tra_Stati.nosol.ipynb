{
 "cells": [
  {
   "cell_type": "markdown",
   "metadata": {
    "slideshow": {
     "slide_type": "slide"
    }
   },
   "source": [
    "# Laboratorio: Analisi Flussi di Popolazione con pandas e matplotlib\n",
    "\n",
    "**Programmazione di Applicazioni Data Intensive**  \n",
    "Laurea in Ingegneria e Scienze Informatiche  \n",
    "DISI - Università di Bologna, Cesena\n",
    "\n",
    "Proff. Gianluca Moro, Roberto Pasolini  \n",
    "`nome.cognome@unibo.it`"
   ]
  },
  {
   "cell_type": "code",
   "execution_count": 1,
   "metadata": {
    "tags": []
   },
   "outputs": [
    {
     "name": "stdout",
     "output_type": "stream",
     "text": [
      "numpy 1.24.3\n",
      "pandas 2.0.3\n",
      "matplotlib 3.7.2\n"
     ]
    }
   ],
   "source": [
    "# verifico che le librerie siano installate e ne stampo le versioni\n",
    "import numpy\n",
    "print(\"numpy\", numpy.__version__)\n",
    "import pandas\n",
    "print(\"pandas\", pandas.__version__)\n",
    "import matplotlib\n",
    "print(\"matplotlib\", matplotlib.__version__)"
   ]
  },
  {
   "cell_type": "markdown",
   "metadata": {
    "slideshow": {
     "slide_type": "slide"
    }
   },
   "source": [
    "## Caso di studio: Analisi flussi tra stati USA\n",
    "\n",
    "L'ufficio del censimento degli Stati Uniti d'America pubblica annualmente un riepilogo dei flussi della popolazione tra stati\n",
    "\n",
    "I dataset per ogni anno in formato XLS (Excel) possono essere reperiti alla pagina https://www.census.gov/data/tables/time-series/demo/geographic-mobility/state-to-state-migration.html\n",
    "\n",
    "In questa esercitazione, lavoriamo sui dati dei flussi tra gli stati relativi al 2016\n",
    "\n",
    "Eseguire la seguente cella per scaricare il file con i dati dell'esercitazione, se non presente"
   ]
  },
  {
   "cell_type": "code",
   "execution_count": 2,
   "metadata": {
    "tags": []
   },
   "outputs": [],
   "source": [
    "DATA_URL = \"https://github.com/datascienceunibo/dialab2024/raw/main/Preprocessing_con_pandas/usa_census.npz\"\n",
    "\n",
    "import os.path\n",
    "if not os.path.exists(\"usa_census.npz\"):\n",
    "    from urllib.request import urlretrieve\n",
    "    urlretrieve(DATA_URL, \"usa_census.npz\")"
   ]
  },
  {
   "cell_type": "markdown",
   "metadata": {
    "slideshow": {
     "slide_type": "slide"
    }
   },
   "source": [
    "### Caricamento dei dati\n",
    "\n",
    "Abbiamo raccolto i dati da analizzare in un _archivio NumPy_, un file contenente un insieme di array con nomi associati: usiamo la funzione `load` di NumPy per caricarlo"
   ]
  },
  {
   "cell_type": "code",
   "execution_count": 6,
   "metadata": {
    "tags": []
   },
   "outputs": [],
   "source": [
    "import numpy as np\n",
    "data = np.load(\"usa_census.npz\")"
   ]
  },
  {
   "cell_type": "markdown",
   "metadata": {},
   "source": [
    "L'oggetto `data` ottenuto è simile ad un dizionario, i cui valori sono le matrici e le cui chiavi sono i loro nomi\n",
    "\n",
    "Otteniamo una lista dei nomi delle matrici caricate"
   ]
  },
  {
   "cell_type": "code",
   "execution_count": 4,
   "metadata": {
    "tags": []
   },
   "outputs": [
    {
     "name": "stdout",
     "output_type": "stream",
     "text": [
      "states, population, area, same_house, same_state, other_state, state_to_state, from_abroad\n"
     ]
    }
   ],
   "source": [
    "print(\", \".join(data.keys()))"
   ]
  },
  {
   "cell_type": "code",
   "execution_count": 7,
   "metadata": {
    "tags": []
   },
   "outputs": [
    {
     "data": {
      "text/plain": [
       "array(['Alabama', 'Alaska', 'Arizona', 'Arkansas', 'California',\n",
       "       'Colorado', 'Connecticut', 'Delaware', 'District of Columbia',\n",
       "       'Florida', 'Georgia', 'Hawaii', 'Idaho', 'Illinois', 'Indiana',\n",
       "       'Iowa', 'Kansas', 'Kentucky', 'Louisiana', 'Maine', 'Maryland',\n",
       "       'Massachusetts', 'Michigan', 'Minnesota', 'Mississippi',\n",
       "       'Missouri', 'Montana', 'Nebraska', 'Nevada', 'New Hampshire',\n",
       "       'New Jersey', 'New Mexico', 'New York', 'North Carolina',\n",
       "       'North Dakota', 'Ohio', 'Oklahoma', 'Oregon', 'Pennsylvania',\n",
       "       'Rhode Island', 'South Carolina', 'South Dakota', 'Tennessee',\n",
       "       'Texas', 'Utah', 'Vermont', 'Virginia', 'Washington',\n",
       "       'West Virginia', 'Wisconsin', 'Wyoming'], dtype='<U20')"
      ]
     },
     "execution_count": 7,
     "metadata": {},
     "output_type": "execute_result"
    }
   ],
   "source": [
    "data[\"states\"]"
   ]
  },
  {
   "cell_type": "markdown",
   "metadata": {
    "slideshow": {
     "slide_type": "slide"
    }
   },
   "source": [
    "### Dati disponibili\n",
    "\n",
    "I dati contenuti nel file sono i seguenti:\n",
    "- `states`: vettore con i nomi degli stati\n",
    "- `population`: vettore con la popolazione totale attuale di ogni stato\n",
    "- `area`: vettore con la superficie di terra di ciascuno stato in miglia quadrate\n",
    "- `same_house`: vettore con numero di abitanti per stato che non hanno cambiato residenza nell'ultimo anno\n",
    "- `same_state`: vettore con numero di abitanti per stato che hanno cambiato residenza nell'ultimo anno, ma non lo stato\n",
    "- `other_state`: vettore con numero di abitanti per stato che si sono trasferiti da un altro stato nell'ultimo anno\n",
    "- `state_to_state`: matrice col numero di abitanti trasferitisi nell'ultimo anno da ciascuno stato ad un altro\n",
    "- `from_abroad`: vettore con numero di abitanti per stato trasferitisi negli USA dall'estero nell'ultimo anno"
   ]
  },
  {
   "cell_type": "markdown",
   "metadata": {
    "slideshow": {
     "slide_type": "slide"
    }
   },
   "source": [
    "Possiamo stampare nome, tipo e forma di ciascun array"
   ]
  },
  {
   "cell_type": "code",
   "execution_count": 5,
   "metadata": {},
   "outputs": [
    {
     "name": "stdout",
     "output_type": "stream",
     "text": [
      "states <U20 (51,)\n",
      "population int64 (51,)\n",
      "area float64 (51,)\n",
      "same_house int64 (51,)\n",
      "same_state int64 (51,)\n",
      "other_state int64 (51,)\n",
      "state_to_state int64 (51, 51)\n",
      "from_abroad int64 (51,)\n"
     ]
    }
   ],
   "source": [
    "# modo semplice: passo i valori a print che li separa con uno spazio\n",
    "for name, array in data.items():\n",
    "    print(name, array.dtype, array.shape)"
   ]
  },
  {
   "cell_type": "code",
   "execution_count": 6,
   "metadata": {},
   "outputs": [
    {
     "name": "stdout",
     "output_type": "stream",
     "text": [
      "         states:     <U20 (51,)\n",
      "     population:    int64 (51,)\n",
      "           area:  float64 (51,)\n",
      "     same_house:    int64 (51,)\n",
      "     same_state:    int64 (51,)\n",
      "    other_state:    int64 (51,)\n",
      " state_to_state:    int64 (51, 51)\n",
      "    from_abroad:    int64 (51,)\n"
     ]
    }
   ],
   "source": [
    "# per maggiore leggibilità posso usare una f-string\n",
    "for name, array in data.items():\n",
    "    print(f\"{name:>15}: {array.dtype!s:>8} {array.shape}\")\n",
    "    # \"!s\" = converti in stringa con str(x) in modo da poter applicare formato\n",
    "    # \">N\" = riserva N caratteri e allinea a destra"
   ]
  },
  {
   "cell_type": "markdown",
   "metadata": {
    "slideshow": {
     "slide_type": "slide"
    }
   },
   "source": [
    "Vediamo ad esempio l'array con i nomi degli stati, che sono in ordine alfabetico"
   ]
  },
  {
   "cell_type": "code",
   "execution_count": 7,
   "metadata": {
    "slideshow": {
     "slide_type": "-"
    }
   },
   "outputs": [
    {
     "data": {
      "text/plain": [
       "array(['Alabama', 'Alaska', 'Arizona', 'Arkansas', 'California',\n",
       "       'Colorado', 'Connecticut', 'Delaware', 'District of Columbia',\n",
       "       'Florida', 'Georgia', 'Hawaii', 'Idaho', 'Illinois', 'Indiana',\n",
       "       'Iowa', 'Kansas', 'Kentucky', 'Louisiana', 'Maine', 'Maryland',\n",
       "       'Massachusetts', 'Michigan', 'Minnesota', 'Mississippi',\n",
       "       'Missouri', 'Montana', 'Nebraska', 'Nevada', 'New Hampshire',\n",
       "       'New Jersey', 'New Mexico', 'New York', 'North Carolina',\n",
       "       'North Dakota', 'Ohio', 'Oklahoma', 'Oregon', 'Pennsylvania',\n",
       "       'Rhode Island', 'South Carolina', 'South Dakota', 'Tennessee',\n",
       "       'Texas', 'Utah', 'Vermont', 'Virginia', 'Washington',\n",
       "       'West Virginia', 'Wisconsin', 'Wyoming'], dtype='<U20')"
      ]
     },
     "execution_count": 7,
     "metadata": {},
     "output_type": "execute_result"
    }
   ],
   "source": [
    "data[\"states\"]"
   ]
  },
  {
   "cell_type": "markdown",
   "metadata": {},
   "source": [
    "In tutti i vettori, i dati relativi ad uno **stesso stato** si trovano nella **stessa posizione**\n",
    "\n",
    "Ad esempio i dati relativi all'Alabama (`states[0]`) si trovano nella posizione 0 di ciascun array (`population[0]`, `area[0]`, ...)"
   ]
  },
  {
   "cell_type": "markdown",
   "metadata": {
    "slideshow": {
     "slide_type": "slide"
    }
   },
   "source": [
    "Per comodità, importiamo gli array su cui lavoreremo come variabili locali"
   ]
  },
  {
   "cell_type": "code",
   "execution_count": 12,
   "metadata": {
    "tags": []
   },
   "outputs": [],
   "source": [
    "states = data[\"states\"]\n",
    "population = data[\"population\"]\n",
    "area = data[\"area\"]"
   ]
  },
  {
   "cell_type": "code",
   "execution_count": 13,
   "metadata": {
    "tags": []
   },
   "outputs": [
    {
     "data": {
      "text/plain": [
       "array(['Alabama', 'Alaska', 'Arizona', 'Arkansas', 'California'],\n",
       "      dtype='<U20')"
      ]
     },
     "execution_count": 13,
     "metadata": {},
     "output_type": "execute_result"
    }
   ],
   "source": [
    "states[:5]"
   ]
  },
  {
   "cell_type": "markdown",
   "metadata": {
    "slideshow": {
     "slide_type": "slide"
    }
   },
   "source": [
    "### Esercizio 1: Ripasso NumPy\n",
    "\n",
    "Usando sugli array `states` e `population` le operazioni viste nello scorso laboratorio, estrarre:\n",
    "\n",
    "- **(1a)** il numero di abitanti del 5° stato in ordine alfabetico (California)\n",
    "- **(1b)** i nomi degli ultimi tre stati in ordine alfabetico\n",
    "- **(1c)** il numero di abitanti in Florida (senza sapere a priori la sua posizione)\n",
    "- **(1d)** i nomi degli stati con almeno 20 milioni di abitanti\n",
    "- **(1e)** il numero totale di abitanti in tutti gli stati\n",
    "- **(1f)** il nome dello stato con meno abitanti"
   ]
  },
  {
   "cell_type": "code",
   "execution_count": 27,
   "metadata": {
    "tags": []
   },
   "outputs": [
    {
     "data": {
      "text/plain": [
       "'Wyoming'"
      ]
     },
     "execution_count": 27,
     "metadata": {},
     "output_type": "execute_result"
    }
   ],
   "source": [
    "#a\n",
    "population[4]\n",
    "#b\n",
    "states[-3:]\n",
    "#c\n",
    "population[states == \"Florida\"][0] #creo un array booleano con True solo in florida e population sarà un array che prende come indice la posizione dei True\n",
    "#d\n",
    "states[population >= 20_000_000]\n",
    "#e\n",
    "population.sum()\n",
    "#f\n",
    "states[population.argmin()]\n"
   ]
  },
  {
   "cell_type": "markdown",
   "metadata": {
    "slideshow": {
     "slide_type": "slide"
    }
   },
   "source": [
    "## pandas\n",
    "\n",
    "**pandas** è una libreria Python di uso comune per lavorare con dati in forma tabulare\n",
    "\n",
    "pandas definisce le strutture dati _serie_ e _data frame_, simili agli array di NumPy ma dotate di _indici_ che etichettano i dati: questo rende semplice reperire dati specifici, ad esempio la popolazione di uno stato data l'etichetta (il nome)\n",
    "\n",
    "Iniziamo importando il package `pandas` con l'alias convenzionale `pd`"
   ]
  },
  {
   "cell_type": "code",
   "execution_count": 28,
   "metadata": {
    "tags": []
   },
   "outputs": [],
   "source": [
    "import pandas as pd"
   ]
  },
  {
   "cell_type": "markdown",
   "metadata": {
    "slideshow": {
     "slide_type": "slide"
    }
   },
   "source": [
    "## Serie\n",
    "\n",
    "Una **_serie_** pandas è un vettore di valori simile ad un array 1D NumPy con un'etichetta associata a ciascuno\n",
    "\n",
    "La sequenza di etichette costituisce l'_indice_ della serie, anch'esso un array 1D\n",
    "\n",
    "Il costruttore `Series` permette di creare una serie di cui sono forniti i dati e l'indice (`index`) in due vettori di uguale lunghezza\n",
    "\n",
    "Creiamo la serie `population` (sovrascrivendo l'array NumPy con lo stesso nome) con il numero di abitanti di ogni stato\n",
    "- i dati della serie sono i numeri di abitanti contenuti nell'array `population`\n",
    "- le etichette sono i nomi degli stati contenuti nell'array `states`"
   ]
  },
  {
   "cell_type": "code",
   "execution_count": 30,
   "metadata": {
    "tags": []
   },
   "outputs": [],
   "source": [
    "# una serie è composta da dati e indici (etichette)\n",
    "population = pd.Series(data[\"population\"], index=data[\"states\"])"
   ]
  },
  {
   "cell_type": "markdown",
   "metadata": {
    "slideshow": {
     "slide_type": "slide"
    }
   },
   "source": [
    "- Visualizziamo la serie, utilizzando il metodo `head` per estrarne solo i primi N elementi"
   ]
  },
  {
   "cell_type": "code",
   "execution_count": 31,
   "metadata": {
    "tags": []
   },
   "outputs": [
    {
     "data": {
      "text/plain": [
       "Alabama         4810126\n",
       "Alaska           731760\n",
       "Arizona         6851836\n",
       "Arkansas        2949650\n",
       "California     38783436\n",
       "Colorado        5476928\n",
       "Connecticut     3541758\n",
       "dtype: int64"
      ]
     },
     "execution_count": 31,
     "metadata": {},
     "output_type": "execute_result"
    }
   ],
   "source": [
    "population.head(7)"
   ]
  },
  {
   "cell_type": "markdown",
   "metadata": {},
   "source": [
    "- Sulla sinistra vediamo le **etichette** che formano l'indice: i nomi degli stati\n",
    "- Sulla destra vediamo i **valori**: la popolazione di ciascuno stato\n",
    "- In fondo vediamo il **tipo** (_dtype_) dei valori, in questo caso numeri interi"
   ]
  },
  {
   "cell_type": "markdown",
   "metadata": {
    "slideshow": {
     "slide_type": "slide"
    }
   },
   "source": [
    "### Attributi di base di una serie\n",
    "\n",
    "Una serie è composta dai dati e dalle etichette: gli attributi `values` e `index` restituiscono questi elementi in forma di vettori"
   ]
  },
  {
   "cell_type": "code",
   "execution_count": 32,
   "metadata": {
    "tags": []
   },
   "outputs": [
    {
     "data": {
      "text/plain": [
       "array([ 4810126,   731760,  6851836,  2949650, 38783436])"
      ]
     },
     "execution_count": 32,
     "metadata": {},
     "output_type": "execute_result"
    }
   ],
   "source": [
    "population.values   [:5]"
   ]
  },
  {
   "cell_type": "code",
   "execution_count": 33,
   "metadata": {
    "tags": []
   },
   "outputs": [
    {
     "data": {
      "text/plain": [
       "Index(['Alabama', 'Alaska', 'Arizona', 'Arkansas', 'California'], dtype='object')"
      ]
     },
     "execution_count": 33,
     "metadata": {},
     "output_type": "execute_result"
    }
   ],
   "source": [
    "population.index    [:5]"
   ]
  },
  {
   "cell_type": "markdown",
   "metadata": {},
   "source": [
    "Il numero di valori si può ottenere con la funzione `len` di Python o (per analogia con gli array) con l'attributo `size`"
   ]
  },
  {
   "cell_type": "code",
   "execution_count": 34,
   "metadata": {
    "tags": []
   },
   "outputs": [
    {
     "data": {
      "text/plain": [
       "51"
      ]
     },
     "execution_count": 34,
     "metadata": {},
     "output_type": "execute_result"
    }
   ],
   "source": [
    "len(population)\n",
    "# oppure\n",
    "population.size"
   ]
  },
  {
   "cell_type": "markdown",
   "metadata": {
    "slideshow": {
     "slide_type": "slide"
    }
   },
   "source": [
    "### Selezionare dati da una serie\n",
    "\n",
    "Le serie supportano in pratica le stesse tecniche di selezione degli array, ma usando le **etichette al posto degli indici numerici**\n",
    "\n",
    "Per cui ad es. per ottenere la popolazione della California si scrive semplicemente:"
   ]
  },
  {
   "cell_type": "code",
   "execution_count": 37,
   "metadata": {
    "tags": []
   },
   "outputs": [
    {
     "data": {
      "text/plain": [
       "38783436"
      ]
     },
     "execution_count": 37,
     "metadata": {},
     "output_type": "execute_result"
    }
   ],
   "source": [
    "population[\"California\"]\n"
   ]
  },
  {
   "cell_type": "markdown",
   "metadata": {},
   "source": [
    "Se si seleziona un'etichetta inesistente, si ha un `KeyError` come per i dizionari `{...}`"
   ]
  },
  {
   "cell_type": "markdown",
   "metadata": {
    "slideshow": {
     "slide_type": "slide"
    }
   },
   "source": [
    "Si può selezionare un intervallo tra due etichette: in questo caso sono **inclusi entrambi gli estremi**, a differenza di altre strutture dati"
   ]
  },
  {
   "cell_type": "code",
   "execution_count": 24,
   "metadata": {},
   "outputs": [
    {
     "data": {
      "text/plain": [
       "Arizona        6851836\n",
       "Arkansas       2949650\n",
       "California    38783436\n",
       "Colorado       5476928\n",
       "dtype: int64"
      ]
     },
     "execution_count": 24,
     "metadata": {},
     "output_type": "execute_result"
    }
   ],
   "source": [
    "population[\"Arizona\":\"Colorado\"]"
   ]
  },
  {
   "cell_type": "markdown",
   "metadata": {},
   "source": [
    "Gli estremi dell'intervallo _A:B_ possono non esistere, vengono comunque presi gli elementi inclusi con _A <= etichetta <= B_ (funziona se le etichette sono in ordine)\n",
    "\n",
    "Ad esempio per selezionare gli stati con iniziali da S a U (incluse) selezioniamo le etichette nell'intervallo `\"S\":\"V\"` (con `\"S\":\"U\"` verrebbe escluso \"Utah\" perché tale stringa è maggiore di \"U\")"
   ]
  },
  {
   "cell_type": "code",
   "execution_count": 38,
   "metadata": {
    "tags": []
   },
   "outputs": [
    {
     "data": {
      "text/plain": [
       "South Carolina     4903788\n",
       "South Dakota        853832\n",
       "Tennessee          6580953\n",
       "Texas             27472626\n",
       "Utah               3002244\n",
       "dtype: int64"
      ]
     },
     "execution_count": 38,
     "metadata": {},
     "output_type": "execute_result"
    }
   ],
   "source": [
    "population[\"S\":\"V\"]"
   ]
  },
  {
   "cell_type": "markdown",
   "metadata": {
    "slideshow": {
     "slide_type": "slide"
    }
   },
   "source": [
    "Si può selezionare un sottoinsieme della serie indicando una lista di etichette"
   ]
  },
  {
   "cell_type": "code",
   "execution_count": 39,
   "metadata": {
    "tags": []
   },
   "outputs": [],
   "source": [
    "# lista di stati della costa ovest\n",
    "west_coast = [\"Washington\", \"Oregon\", \"California\"]"
   ]
  },
  {
   "cell_type": "code",
   "execution_count": 40,
   "metadata": {
    "tags": []
   },
   "outputs": [
    {
     "data": {
      "text/plain": [
       "Washington     7202119\n",
       "Oregon         4052221\n",
       "California    38783436\n",
       "dtype: int64"
      ]
     },
     "execution_count": 40,
     "metadata": {},
     "output_type": "execute_result"
    }
   ],
   "source": [
    "# popolazione stati della costa ovest\n",
    "population[west_coast]"
   ]
  },
  {
   "cell_type": "markdown",
   "metadata": {
    "slideshow": {
     "slide_type": "slide"
    }
   },
   "source": [
    "### Creazione delle altre serie\n",
    "\n",
    "Creiamo una serie per altri vettori di dati, utilizzando sempre il vettore di nomi degli Stati `states` come indice"
   ]
  },
  {
   "cell_type": "code",
   "execution_count": 41,
   "metadata": {
    "tags": []
   },
   "outputs": [],
   "source": [
    "area        = pd.Series(data[\"area\"],        index=data[\"states\"])\n",
    "other_state = pd.Series(data[\"other_state\"], index=data[\"states\"])\n",
    "from_abroad = pd.Series(data[\"from_abroad\"], index=data[\"states\"])"
   ]
  },
  {
   "cell_type": "markdown",
   "metadata": {
    "slideshow": {
     "slide_type": "slide"
    }
   },
   "source": [
    "### Operazioni tra serie\n",
    "\n",
    "Come per gli array, è possibile effettuare operazioni elemento per elemento tra due serie o tra una serie ed un valore singolo\n",
    "\n",
    "Si possono utilizzare operazioni binarie (`+`, `*`, ...) e funzioni universali di NumPy (`np.log`, ...)\n",
    "\n",
    "Nel caso di due serie, le operazioni sono applicate **tra elementi di uguale etichetta** (indipendentemente dalla posizione!); la serie risultante avrà valori mancanti (NA) in corrispondenza di etichette presenti in un solo operando"
   ]
  },
  {
   "cell_type": "markdown",
   "metadata": {
    "slideshow": {
     "slide_type": "slide"
    }
   },
   "source": [
    "- Ad es. per ottenere la popolazione in milioni di abitanti"
   ]
  },
  {
   "cell_type": "code",
   "execution_count": 42,
   "metadata": {
    "tags": []
   },
   "outputs": [
    {
     "data": {
      "text/plain": [
       "Alabama    4.810126\n",
       "Alaska     0.731760\n",
       "Arizona    6.851836\n",
       "dtype: float64"
      ]
     },
     "execution_count": 42,
     "metadata": {},
     "output_type": "execute_result"
    }
   ],
   "source": [
    "(population / 1_000_000)    .head(3)"
   ]
  },
  {
   "cell_type": "markdown",
   "metadata": {},
   "source": [
    "- Per ottenere il logaritmo in base 10 della popolazione (ad es. per creare un grafico in tale scala):"
   ]
  },
  {
   "cell_type": "code",
   "execution_count": 30,
   "metadata": {},
   "outputs": [
    {
     "data": {
      "text/plain": [
       "Alabama    6.682156\n",
       "Alaska     5.864369\n",
       "Arizona    6.835807\n",
       "dtype: float64"
      ]
     },
     "execution_count": 30,
     "metadata": {},
     "output_type": "execute_result"
    }
   ],
   "source": [
    "np.log10(population)   .head(3)"
   ]
  },
  {
   "cell_type": "markdown",
   "metadata": {
    "slideshow": {
     "slide_type": "slide"
    }
   },
   "source": [
    "### Esercizio 2: Operazioni tra serie\n",
    "\n",
    "- **(2a)** La serie `area` riporta la superficie degli stati in miglia quadrate: ricavare una serie `area_km2` con la superficie in chilometri quadrati (1 mi² = 2,59 km²)\n",
    "- **(2b)** Creare una serie `density` con la densità di popolazione di ciascuno stato in abitanti per km²"
   ]
  },
  {
   "cell_type": "code",
   "execution_count": 46,
   "metadata": {
    "tags": []
   },
   "outputs": [],
   "source": [
    "area_km2 = area * 2.59"
   ]
  },
  {
   "cell_type": "code",
   "execution_count": 50,
   "metadata": {
    "tags": []
   },
   "outputs": [],
   "source": [
    "density = population / area_km2"
   ]
  },
  {
   "cell_type": "code",
   "execution_count": 53,
   "metadata": {
    "tags": []
   },
   "outputs": [
    {
     "data": {
      "text/plain": [
       "Alabama                   36.670538\n",
       "Alaska                     0.495115\n",
       "Arizona                   23.289035\n",
       "Arkansas                  21.886240\n",
       "California                96.125142\n",
       "Colorado                  20.403372\n",
       "Connecticut              282.398279\n",
       "Delaware                 186.670404\n",
       "District of Columbia    4250.089331\n",
       "Florida                  146.892144\n",
       "Georgia                   68.339582\n",
       "Hawaii                    84.778534\n",
       "Idaho                      7.772902\n",
       "Illinois                  88.001860\n",
       "Indiana                   70.633802\n",
       "Iowa                      21.409302\n",
       "Kansas                    13.555892\n",
       "Kentucky                  42.878941\n",
       "Louisiana                 41.305813\n",
       "Maine                     16.515270\n",
       "Maryland                 236.640871\n",
       "Massachusetts            333.897095\n",
       "Michigan                  67.017596\n",
       "Minnesota                 26.455016\n",
       "Mississippi               24.282483\n",
       "Missouri                  33.824685\n",
       "Montana                    2.739771\n",
       "Nebraska                   9.463454\n",
       "Nevada                    10.224773\n",
       "New Hampshire             57.018169\n",
       "New Jersey               464.749633\n",
       "New Mexico                 6.550301\n",
       "New York                 159.977575\n",
       "North Carolina            79.672619\n",
       "North Dakota               4.175829\n",
       "Ohio                     108.493246\n",
       "Oklahoma                  21.801270\n",
       "Oregon                    16.299578\n",
       "Pennsylvania             109.122376\n",
       "Rhode Island             390.537622\n",
       "South Carolina            62.984376\n",
       "South Dakota               4.348510\n",
       "Tennessee                 61.620338\n",
       "Texas                     40.604533\n",
       "Utah                      14.107009\n",
       "Vermont                   25.947096\n",
       "Virginia                  81.270544\n",
       "Washington                41.843641\n",
       "West Virginia             29.083507\n",
       "Wisconsin                 40.722584\n",
       "Wyoming                    2.296752\n",
       "dtype: float64"
      ]
     },
     "execution_count": 53,
     "metadata": {},
     "output_type": "execute_result"
    }
   ],
   "source": [
    "area_km2\n",
    "density"
   ]
  },
  {
   "cell_type": "markdown",
   "metadata": {
    "slideshow": {
     "slide_type": "slide"
    }
   },
   "source": [
    "### Serie booleane e selezione per condizioni\n",
    "\n",
    "Usando operatori di confronto (`==`, `>`, ...) sulle serie, si ottiene una serie di valori booleani\n",
    "\n",
    "Ad esempio, per ottenere la serie che associa `True` agli stati non più grandi di 5.000 miglia quadrate:"
   ]
  },
  {
   "cell_type": "code",
   "execution_count": 36,
   "metadata": {},
   "outputs": [
    {
     "data": {
      "text/plain": [
       "Alabama                 False\n",
       "Alaska                  False\n",
       "Arizona                 False\n",
       "Arkansas                False\n",
       "California              False\n",
       "Colorado                False\n",
       "Connecticut              True\n",
       "Delaware                 True\n",
       "District of Columbia     True\n",
       "Florida                 False\n",
       "dtype: bool"
      ]
     },
     "execution_count": 36,
     "metadata": {},
     "output_type": "execute_result"
    }
   ],
   "source": [
    "is_small = area <= 5000\n",
    "is_small.head(10)"
   ]
  },
  {
   "cell_type": "markdown",
   "metadata": {
    "slideshow": {
     "slide_type": "slide"
    }
   },
   "source": [
    "In modo simile agli array, una serie booleana può essere usata per selezionare in un'altra serie con stesse etichette solamente gli elementi a cui è associato `True`\n",
    "\n",
    "Ad esempio, per mostrare la superficie dei soli stati piccoli individuati sopra:"
   ]
  },
  {
   "cell_type": "code",
   "execution_count": 54,
   "metadata": {
    "tags": []
   },
   "outputs": [
    {
     "data": {
      "text/plain": [
       "Connecticut             4842.36\n",
       "Delaware                1948.54\n",
       "District of Columbia      61.05\n",
       "Rhode Island            1033.81\n",
       "dtype: float64"
      ]
     },
     "execution_count": 54,
     "metadata": {},
     "output_type": "execute_result"
    }
   ],
   "source": [
    "area[area <= 5000]\n",
    "# oppure: area[is_small]"
   ]
  },
  {
   "cell_type": "markdown",
   "metadata": {
    "slideshow": {
     "slide_type": "slide"
    }
   },
   "source": [
    "La serie da cui sono selezionati i dati e quella usata come condizione possono anche differire..."
   ]
  },
  {
   "cell_type": "code",
   "execution_count": 38,
   "metadata": {},
   "outputs": [
    {
     "data": {
      "text/plain": [
       "Connecticut             3541758\n",
       "Delaware                 942073\n",
       "District of Columbia     672022\n",
       "Rhode Island            1045691\n",
       "dtype: int64"
      ]
     },
     "execution_count": 38,
     "metadata": {},
     "output_type": "execute_result"
    }
   ],
   "source": [
    "# popolazione degli stati piccoli\n",
    "population[area <= 5000]"
   ]
  },
  {
   "cell_type": "markdown",
   "metadata": {},
   "source": [
    "Possiamo combinare serie booleane con gli operatori `&` (AND), `|` (OR), `^` (XOR), `~` (NOT)\n",
    "\n",
    "**Attenzione:** tali operatori nel linguaggio Python hanno priorità superiore alle comparazioni (`>`, `<=`, ...), **usare le parentesi** per evitare errori"
   ]
  },
  {
   "cell_type": "code",
   "execution_count": 39,
   "metadata": {},
   "outputs": [
    {
     "data": {
      "text/plain": [
       "Connecticut     3541758\n",
       "Rhode Island    1045691\n",
       "dtype: int64"
      ]
     },
     "execution_count": 39,
     "metadata": {},
     "output_type": "execute_result"
    }
   ],
   "source": [
    "# popolazione degli stati piccoli con più di un milione di abitanti\n",
    "population[   (area <= 5000) &    (population >= 1_000_000) ]"
   ]
  },
  {
   "cell_type": "markdown",
   "metadata": {
    "slideshow": {
     "slide_type": "slide"
    }
   },
   "source": [
    "### Operazioni di riduzione sulle serie\n",
    "\n",
    "Le serie offrono metodi simili a quelli degli array per aggregare i dati: `sum`, `mean`, `min`, `max`, ...\n",
    "\n",
    "Ad esempio, per ottenere la popolazione totale di tutti gli stati:"
   ]
  },
  {
   "cell_type": "code",
   "execution_count": 40,
   "metadata": {},
   "outputs": [
    {
     "data": {
      "text/plain": [
       "319361956"
      ]
     },
     "execution_count": 40,
     "metadata": {},
     "output_type": "execute_result"
    }
   ],
   "source": [
    "population.sum()"
   ]
  },
  {
   "cell_type": "markdown",
   "metadata": {},
   "source": [
    "Per ottenere la popolazione nello stato dove è maggiore:"
   ]
  },
  {
   "cell_type": "code",
   "execution_count": 41,
   "metadata": {},
   "outputs": [
    {
     "data": {
      "text/plain": [
       "38783436"
      ]
     },
     "execution_count": 41,
     "metadata": {},
     "output_type": "execute_result"
    }
   ],
   "source": [
    "population.max()"
   ]
  },
  {
   "cell_type": "markdown",
   "metadata": {},
   "source": [
    "Per conoscere a quale Stato corrisponde, uso il metodo `idxmax` che restituisce l'etichetta del valore maggiore"
   ]
  },
  {
   "cell_type": "code",
   "execution_count": 42,
   "metadata": {},
   "outputs": [
    {
     "data": {
      "text/plain": [
       "'California'"
      ]
     },
     "execution_count": 42,
     "metadata": {},
     "output_type": "execute_result"
    }
   ],
   "source": [
    "population.idxmax()"
   ]
  },
  {
   "cell_type": "markdown",
   "metadata": {},
   "source": [
    "Sono definiti analogamente `min` e `idxmin` per il valore minimo e la sua etichetta"
   ]
  },
  {
   "cell_type": "code",
   "execution_count": 43,
   "metadata": {},
   "outputs": [
    {
     "data": {
      "text/plain": [
       "577567"
      ]
     },
     "execution_count": 43,
     "metadata": {},
     "output_type": "execute_result"
    }
   ],
   "source": [
    "population.min()"
   ]
  },
  {
   "cell_type": "code",
   "execution_count": 44,
   "metadata": {},
   "outputs": [
    {
     "data": {
      "text/plain": [
       "'Wyoming'"
      ]
     },
     "execution_count": 44,
     "metadata": {},
     "output_type": "execute_result"
    }
   ],
   "source": [
    "population.idxmin()"
   ]
  },
  {
   "cell_type": "markdown",
   "metadata": {},
   "source": [
    "Come in NumPy tali metodi si possono applicare anche alle serie booleane, con la tipica convenzione per cui `False` e `True` contano rispettivamente come 0 e 1"
   ]
  },
  {
   "cell_type": "markdown",
   "metadata": {
    "slideshow": {
     "slide_type": "slide"
    }
   },
   "source": [
    "### Esercizio 3: Operazioni di riduzione su serie\n",
    "\n",
    "Ricavare:\n",
    "- **(3a)** il nome dello stato più piccolo\n",
    "- **(3b)** la densità di popolazione dello stato più piccolo\n",
    "- **(3c)** il numero di stati la cui popolazione è superiore al milione di abitanti\n",
    "- **(3d)** il totale della popolazione degli stati sulla costa ovest (usare lista `west_coast` definita sopra)\n",
    "- **(3e)** la densità media degli stati con almeno 10 milioni di abitanti"
   ]
  },
  {
   "cell_type": "code",
   "execution_count": 56,
   "metadata": {
    "tags": []
   },
   "outputs": [
    {
     "data": {
      "text/plain": [
       "'District of Columbia'"
      ]
     },
     "execution_count": 56,
     "metadata": {},
     "output_type": "execute_result"
    }
   ],
   "source": [
    "#a\n",
    "area.idxmin()"
   ]
  },
  {
   "cell_type": "code",
   "execution_count": 57,
   "metadata": {
    "tags": []
   },
   "outputs": [
    {
     "data": {
      "text/plain": [
       "4250.089331170412"
      ]
     },
     "execution_count": 57,
     "metadata": {},
     "output_type": "execute_result"
    }
   ],
   "source": [
    "#b\n",
    "density[area.idxmin()]"
   ]
  },
  {
   "cell_type": "code",
   "execution_count": 58,
   "metadata": {
    "tags": []
   },
   "outputs": [
    {
     "data": {
      "text/plain": [
       "44"
      ]
     },
     "execution_count": 58,
     "metadata": {},
     "output_type": "execute_result"
    }
   ],
   "source": [
    "#c\n",
    "len(population[population >= 1_000_000])"
   ]
  },
  {
   "cell_type": "code",
   "execution_count": 61,
   "metadata": {
    "tags": []
   },
   "outputs": [
    {
     "data": {
      "text/plain": [
       "50037776"
      ]
     },
     "execution_count": 61,
     "metadata": {},
     "output_type": "execute_result"
    }
   ],
   "source": [
    "#d\n",
    "population[west_coast].sum()"
   ]
  },
  {
   "cell_type": "code",
   "execution_count": 68,
   "metadata": {
    "tags": []
   },
   "outputs": [
    {
     "data": {
      "text/plain": [
       "99.6921196099007"
      ]
     },
     "execution_count": 68,
     "metadata": {},
     "output_type": "execute_result"
    }
   ],
   "source": [
    "#e\n",
    "density[population >= 10_000_000].mean()"
   ]
  },
  {
   "cell_type": "markdown",
   "metadata": {
    "slideshow": {
     "slide_type": "slide"
    }
   },
   "source": [
    "## DataFrame\n",
    "\n",
    "Un `DataFrame` pandas contiene dati strutturati in **forma tabulare**, dove in genere\n",
    "\n",
    "- **ogni riga** della tabella rappresenta **un elemento** dell'insieme che si sta analizzando (una persona, un territorio, ...)\n",
    "- **ogni colonna** rappresenta **una caratteristica** di interesse (_feature_) degli elementi (età, popolazione, ...)\n",
    "\n",
    "Le colonne di un data frame costituiscono un insieme di serie tutte con la stessa sequenza di etichette\n",
    "\n",
    "- tale sequenza costituisce l'_indice delle righe_ del frame (o semplicemente _indice_)\n",
    "- ogni colonna ha un nome, i nomi delle colonne formano l'_indice delle colonne_ del frame\n",
    "- i datatype dei valori possono differire da una colonna all'altra"
   ]
  },
  {
   "cell_type": "markdown",
   "metadata": {
    "slideshow": {
     "slide_type": "slide"
    }
   },
   "source": [
    "### Creare un DataFrame\n",
    "\n",
    "Per creare un DataFrame possiamo passare un dizionario con una serie di valori per ciascuna colonna, la cui chiave è il nome\n",
    "\n",
    "L'indice delle serie, identico per tutte, è usato come indice delle righe del DataFrame; se alcune etichette sono presenti solo in alcune serie, si ottengono valori mancanti nelle altre colonne"
   ]
  },
  {
   "cell_type": "code",
   "execution_count": 70,
   "metadata": {
    "tags": []
   },
   "outputs": [
    {
     "data": {
      "text/html": [
       "<div>\n",
       "<style scoped>\n",
       "    .dataframe tbody tr th:only-of-type {\n",
       "        vertical-align: middle;\n",
       "    }\n",
       "\n",
       "    .dataframe tbody tr th {\n",
       "        vertical-align: top;\n",
       "    }\n",
       "\n",
       "    .dataframe thead th {\n",
       "        text-align: right;\n",
       "    }\n",
       "</style>\n",
       "<table border=\"1\" class=\"dataframe\">\n",
       "  <thead>\n",
       "    <tr style=\"text-align: right;\">\n",
       "      <th></th>\n",
       "      <th>population</th>\n",
       "      <th>from_abroad</th>\n",
       "      <th>area</th>\n",
       "    </tr>\n",
       "  </thead>\n",
       "  <tbody>\n",
       "    <tr>\n",
       "      <th>Alabama</th>\n",
       "      <td>4810126</td>\n",
       "      <td>16062</td>\n",
       "      <td>1.311714e+05</td>\n",
       "    </tr>\n",
       "    <tr>\n",
       "      <th>Alaska</th>\n",
       "      <td>731760</td>\n",
       "      <td>6559</td>\n",
       "      <td>1.477960e+06</td>\n",
       "    </tr>\n",
       "    <tr>\n",
       "      <th>Arizona</th>\n",
       "      <td>6851836</td>\n",
       "      <td>53749</td>\n",
       "      <td>2.942087e+05</td>\n",
       "    </tr>\n",
       "    <tr>\n",
       "      <th>Arkansas</th>\n",
       "      <td>2949650</td>\n",
       "      <td>9051</td>\n",
       "      <td>1.347719e+05</td>\n",
       "    </tr>\n",
       "    <tr>\n",
       "      <th>California</th>\n",
       "      <td>38783436</td>\n",
       "      <td>336614</td>\n",
       "      <td>4.034682e+05</td>\n",
       "    </tr>\n",
       "    <tr>\n",
       "      <th>Colorado</th>\n",
       "      <td>5476928</td>\n",
       "      <td>32889</td>\n",
       "      <td>2.684325e+05</td>\n",
       "    </tr>\n",
       "    <tr>\n",
       "      <th>Connecticut</th>\n",
       "      <td>3541758</td>\n",
       "      <td>26416</td>\n",
       "      <td>1.254171e+04</td>\n",
       "    </tr>\n",
       "    <tr>\n",
       "      <th>Delaware</th>\n",
       "      <td>942073</td>\n",
       "      <td>5747</td>\n",
       "      <td>5.046719e+03</td>\n",
       "    </tr>\n",
       "    <tr>\n",
       "      <th>District of Columbia</th>\n",
       "      <td>672022</td>\n",
       "      <td>11155</td>\n",
       "      <td>1.581195e+02</td>\n",
       "    </tr>\n",
       "    <tr>\n",
       "      <th>Florida</th>\n",
       "      <td>20401575</td>\n",
       "      <td>232838</td>\n",
       "      <td>1.388881e+05</td>\n",
       "    </tr>\n",
       "    <tr>\n",
       "      <th>Georgia</th>\n",
       "      <td>10179860</td>\n",
       "      <td>69341</td>\n",
       "      <td>1.489599e+05</td>\n",
       "    </tr>\n",
       "    <tr>\n",
       "      <th>Hawaii</th>\n",
       "      <td>1410258</td>\n",
       "      <td>17431</td>\n",
       "      <td>1.663461e+04</td>\n",
       "    </tr>\n",
       "    <tr>\n",
       "      <th>Idaho</th>\n",
       "      <td>1663756</td>\n",
       "      <td>8529</td>\n",
       "      <td>2.140457e+05</td>\n",
       "    </tr>\n",
       "    <tr>\n",
       "      <th>Illinois</th>\n",
       "      <td>12654142</td>\n",
       "      <td>65886</td>\n",
       "      <td>1.437940e+05</td>\n",
       "    </tr>\n",
       "    <tr>\n",
       "      <th>Indiana</th>\n",
       "      <td>6554084</td>\n",
       "      <td>26787</td>\n",
       "      <td>9.278962e+04</td>\n",
       "    </tr>\n",
       "    <tr>\n",
       "      <th>Iowa</th>\n",
       "      <td>3097283</td>\n",
       "      <td>12923</td>\n",
       "      <td>1.446700e+05</td>\n",
       "    </tr>\n",
       "    <tr>\n",
       "      <th>Kansas</th>\n",
       "      <td>2870529</td>\n",
       "      <td>17377</td>\n",
       "      <td>2.117551e+05</td>\n",
       "    </tr>\n",
       "    <tr>\n",
       "      <th>Kentucky</th>\n",
       "      <td>4385213</td>\n",
       "      <td>19460</td>\n",
       "      <td>1.022696e+05</td>\n",
       "    </tr>\n",
       "    <tr>\n",
       "      <th>Louisiana</th>\n",
       "      <td>4622042</td>\n",
       "      <td>15970</td>\n",
       "      <td>1.118981e+05</td>\n",
       "    </tr>\n",
       "    <tr>\n",
       "      <th>Maine</th>\n",
       "      <td>1319292</td>\n",
       "      <td>4590</td>\n",
       "      <td>7.988316e+04</td>\n",
       "    </tr>\n",
       "    <tr>\n",
       "      <th>Maryland</th>\n",
       "      <td>5949566</td>\n",
       "      <td>44118</td>\n",
       "      <td>2.514175e+04</td>\n",
       "    </tr>\n",
       "    <tr>\n",
       "      <th>Massachusetts</th>\n",
       "      <td>6745441</td>\n",
       "      <td>72995</td>\n",
       "      <td>2.020216e+04</td>\n",
       "    </tr>\n",
       "    <tr>\n",
       "      <th>Michigan</th>\n",
       "      <td>9813772</td>\n",
       "      <td>54853</td>\n",
       "      <td>1.464358e+05</td>\n",
       "    </tr>\n",
       "    <tr>\n",
       "      <th>Minnesota</th>\n",
       "      <td>5455904</td>\n",
       "      <td>30206</td>\n",
       "      <td>2.062333e+05</td>\n",
       "    </tr>\n",
       "    <tr>\n",
       "      <th>Mississippi</th>\n",
       "      <td>2951081</td>\n",
       "      <td>5852</td>\n",
       "      <td>1.215313e+05</td>\n",
       "    </tr>\n",
       "    <tr>\n",
       "      <th>Missouri</th>\n",
       "      <td>6022165</td>\n",
       "      <td>21896</td>\n",
       "      <td>1.780405e+05</td>\n",
       "    </tr>\n",
       "    <tr>\n",
       "      <th>Montana</th>\n",
       "      <td>1032794</td>\n",
       "      <td>3545</td>\n",
       "      <td>3.769636e+05</td>\n",
       "    </tr>\n",
       "    <tr>\n",
       "      <th>Nebraska</th>\n",
       "      <td>1882987</td>\n",
       "      <td>10295</td>\n",
       "      <td>1.989746e+05</td>\n",
       "    </tr>\n",
       "    <tr>\n",
       "      <th>Nevada</th>\n",
       "      <td>2907243</td>\n",
       "      <td>14477</td>\n",
       "      <td>2.843333e+05</td>\n",
       "    </tr>\n",
       "    <tr>\n",
       "      <th>New Hampshire</th>\n",
       "      <td>1322101</td>\n",
       "      <td>6973</td>\n",
       "      <td>2.318736e+04</td>\n",
       "    </tr>\n",
       "    <tr>\n",
       "      <th>New Jersey</th>\n",
       "      <td>8852286</td>\n",
       "      <td>69601</td>\n",
       "      <td>1.904743e+04</td>\n",
       "    </tr>\n",
       "    <tr>\n",
       "      <th>New Mexico</th>\n",
       "      <td>2057857</td>\n",
       "      <td>10604</td>\n",
       "      <td>3.141622e+05</td>\n",
       "    </tr>\n",
       "    <tr>\n",
       "      <th>New York</th>\n",
       "      <td>19526443</td>\n",
       "      <td>166069</td>\n",
       "      <td>1.220574e+05</td>\n",
       "    </tr>\n",
       "    <tr>\n",
       "      <th>North Carolina</th>\n",
       "      <td>10032407</td>\n",
       "      <td>50275</td>\n",
       "      <td>1.259204e+05</td>\n",
       "    </tr>\n",
       "    <tr>\n",
       "      <th>North Dakota</th>\n",
       "      <td>746271</td>\n",
       "      <td>4715</td>\n",
       "      <td>1.787121e+05</td>\n",
       "    </tr>\n",
       "    <tr>\n",
       "      <th>Ohio</th>\n",
       "      <td>11481752</td>\n",
       "      <td>48481</td>\n",
       "      <td>1.058292e+05</td>\n",
       "    </tr>\n",
       "    <tr>\n",
       "      <th>Oklahoma</th>\n",
       "      <td>3873232</td>\n",
       "      <td>14984</td>\n",
       "      <td>1.776608e+05</td>\n",
       "    </tr>\n",
       "    <tr>\n",
       "      <th>Oregon</th>\n",
       "      <td>4052221</td>\n",
       "      <td>27132</td>\n",
       "      <td>2.486089e+05</td>\n",
       "    </tr>\n",
       "    <tr>\n",
       "      <th>Pennsylvania</th>\n",
       "      <td>12645493</td>\n",
       "      <td>68801</td>\n",
       "      <td>1.158836e+05</td>\n",
       "    </tr>\n",
       "    <tr>\n",
       "      <th>Rhode Island</th>\n",
       "      <td>1045691</td>\n",
       "      <td>7592</td>\n",
       "      <td>2.677568e+03</td>\n",
       "    </tr>\n",
       "    <tr>\n",
       "      <th>South Carolina</th>\n",
       "      <td>4903788</td>\n",
       "      <td>19189</td>\n",
       "      <td>7.785721e+04</td>\n",
       "    </tr>\n",
       "    <tr>\n",
       "      <th>South Dakota</th>\n",
       "      <td>853832</td>\n",
       "      <td>4034</td>\n",
       "      <td>1.963505e+05</td>\n",
       "    </tr>\n",
       "    <tr>\n",
       "      <th>Tennessee</th>\n",
       "      <td>6580953</td>\n",
       "      <td>23449</td>\n",
       "      <td>1.067984e+05</td>\n",
       "    </tr>\n",
       "    <tr>\n",
       "      <th>Texas</th>\n",
       "      <td>27472626</td>\n",
       "      <td>234749</td>\n",
       "      <td>6.765901e+05</td>\n",
       "    </tr>\n",
       "    <tr>\n",
       "      <th>Utah</th>\n",
       "      <td>3002244</td>\n",
       "      <td>24835</td>\n",
       "      <td>2.128193e+05</td>\n",
       "    </tr>\n",
       "    <tr>\n",
       "      <th>Vermont</th>\n",
       "      <td>619387</td>\n",
       "      <td>2113</td>\n",
       "      <td>2.387115e+04</td>\n",
       "    </tr>\n",
       "    <tr>\n",
       "      <th>Virginia</th>\n",
       "      <td>8312297</td>\n",
       "      <td>78325</td>\n",
       "      <td>1.022793e+05</td>\n",
       "    </tr>\n",
       "    <tr>\n",
       "      <th>Washington</th>\n",
       "      <td>7202119</td>\n",
       "      <td>61342</td>\n",
       "      <td>1.721198e+05</td>\n",
       "    </tr>\n",
       "    <tr>\n",
       "      <th>West Virginia</th>\n",
       "      <td>1810709</td>\n",
       "      <td>3742</td>\n",
       "      <td>6.225896e+04</td>\n",
       "    </tr>\n",
       "    <tr>\n",
       "      <th>Wisconsin</th>\n",
       "      <td>5712104</td>\n",
       "      <td>19943</td>\n",
       "      <td>1.402687e+05</td>\n",
       "    </tr>\n",
       "    <tr>\n",
       "      <th>Wyoming</th>\n",
       "      <td>577567</td>\n",
       "      <td>2105</td>\n",
       "      <td>2.514712e+05</td>\n",
       "    </tr>\n",
       "  </tbody>\n",
       "</table>\n",
       "</div>"
      ],
      "text/plain": [
       "                      population  from_abroad          area\n",
       "Alabama                  4810126        16062  1.311714e+05\n",
       "Alaska                    731760         6559  1.477960e+06\n",
       "Arizona                  6851836        53749  2.942087e+05\n",
       "Arkansas                 2949650         9051  1.347719e+05\n",
       "California              38783436       336614  4.034682e+05\n",
       "Colorado                 5476928        32889  2.684325e+05\n",
       "Connecticut              3541758        26416  1.254171e+04\n",
       "Delaware                  942073         5747  5.046719e+03\n",
       "District of Columbia      672022        11155  1.581195e+02\n",
       "Florida                 20401575       232838  1.388881e+05\n",
       "Georgia                 10179860        69341  1.489599e+05\n",
       "Hawaii                   1410258        17431  1.663461e+04\n",
       "Idaho                    1663756         8529  2.140457e+05\n",
       "Illinois                12654142        65886  1.437940e+05\n",
       "Indiana                  6554084        26787  9.278962e+04\n",
       "Iowa                     3097283        12923  1.446700e+05\n",
       "Kansas                   2870529        17377  2.117551e+05\n",
       "Kentucky                 4385213        19460  1.022696e+05\n",
       "Louisiana                4622042        15970  1.118981e+05\n",
       "Maine                    1319292         4590  7.988316e+04\n",
       "Maryland                 5949566        44118  2.514175e+04\n",
       "Massachusetts            6745441        72995  2.020216e+04\n",
       "Michigan                 9813772        54853  1.464358e+05\n",
       "Minnesota                5455904        30206  2.062333e+05\n",
       "Mississippi              2951081         5852  1.215313e+05\n",
       "Missouri                 6022165        21896  1.780405e+05\n",
       "Montana                  1032794         3545  3.769636e+05\n",
       "Nebraska                 1882987        10295  1.989746e+05\n",
       "Nevada                   2907243        14477  2.843333e+05\n",
       "New Hampshire            1322101         6973  2.318736e+04\n",
       "New Jersey               8852286        69601  1.904743e+04\n",
       "New Mexico               2057857        10604  3.141622e+05\n",
       "New York                19526443       166069  1.220574e+05\n",
       "North Carolina          10032407        50275  1.259204e+05\n",
       "North Dakota              746271         4715  1.787121e+05\n",
       "Ohio                    11481752        48481  1.058292e+05\n",
       "Oklahoma                 3873232        14984  1.776608e+05\n",
       "Oregon                   4052221        27132  2.486089e+05\n",
       "Pennsylvania            12645493        68801  1.158836e+05\n",
       "Rhode Island             1045691         7592  2.677568e+03\n",
       "South Carolina           4903788        19189  7.785721e+04\n",
       "South Dakota              853832         4034  1.963505e+05\n",
       "Tennessee                6580953        23449  1.067984e+05\n",
       "Texas                   27472626       234749  6.765901e+05\n",
       "Utah                     3002244        24835  2.128193e+05\n",
       "Vermont                   619387         2113  2.387115e+04\n",
       "Virginia                 8312297        78325  1.022793e+05\n",
       "Washington               7202119        61342  1.721198e+05\n",
       "West Virginia            1810709         3742  6.225896e+04\n",
       "Wisconsin                5712104        19943  1.402687e+05\n",
       "Wyoming                   577567         2105  2.514712e+05"
      ]
     },
     "execution_count": 70,
     "metadata": {},
     "output_type": "execute_result"
    }
   ],
   "source": [
    "# un data frame è un insieme di serie unite assieme\n",
    "census = pd.DataFrame({\n",
    "    \"population\": population,\n",
    "    \"from_abroad\": from_abroad,\n",
    "    \"area\": area_km2\n",
    "})\n",
    "census"
   ]
  },
  {
   "cell_type": "markdown",
   "metadata": {
    "slideshow": {
     "slide_type": "slide"
    }
   },
   "source": [
    "Visualizziamo le prime righe del DataFrame come esempio..."
   ]
  },
  {
   "cell_type": "code",
   "execution_count": 52,
   "metadata": {},
   "outputs": [
    {
     "data": {
      "text/html": [
       "<div>\n",
       "<style scoped>\n",
       "    .dataframe tbody tr th:only-of-type {\n",
       "        vertical-align: middle;\n",
       "    }\n",
       "\n",
       "    .dataframe tbody tr th {\n",
       "        vertical-align: top;\n",
       "    }\n",
       "\n",
       "    .dataframe thead th {\n",
       "        text-align: right;\n",
       "    }\n",
       "</style>\n",
       "<table border=\"1\" class=\"dataframe\">\n",
       "  <thead>\n",
       "    <tr style=\"text-align: right;\">\n",
       "      <th></th>\n",
       "      <th>population</th>\n",
       "      <th>from_abroad</th>\n",
       "      <th>area</th>\n",
       "    </tr>\n",
       "  </thead>\n",
       "  <tbody>\n",
       "    <tr>\n",
       "      <th>Alabama</th>\n",
       "      <td>4810126</td>\n",
       "      <td>16062</td>\n",
       "      <td>1.311714e+05</td>\n",
       "    </tr>\n",
       "    <tr>\n",
       "      <th>Alaska</th>\n",
       "      <td>731760</td>\n",
       "      <td>6559</td>\n",
       "      <td>1.477960e+06</td>\n",
       "    </tr>\n",
       "    <tr>\n",
       "      <th>Arizona</th>\n",
       "      <td>6851836</td>\n",
       "      <td>53749</td>\n",
       "      <td>2.942087e+05</td>\n",
       "    </tr>\n",
       "    <tr>\n",
       "      <th>Arkansas</th>\n",
       "      <td>2949650</td>\n",
       "      <td>9051</td>\n",
       "      <td>1.347719e+05</td>\n",
       "    </tr>\n",
       "    <tr>\n",
       "      <th>California</th>\n",
       "      <td>38783436</td>\n",
       "      <td>336614</td>\n",
       "      <td>4.034682e+05</td>\n",
       "    </tr>\n",
       "  </tbody>\n",
       "</table>\n",
       "</div>"
      ],
      "text/plain": [
       "            population  from_abroad          area\n",
       "Alabama        4810126        16062  1.311714e+05\n",
       "Alaska          731760         6559  1.477960e+06\n",
       "Arizona        6851836        53749  2.942087e+05\n",
       "Arkansas       2949650         9051  1.347719e+05\n",
       "California    38783436       336614  4.034682e+05"
      ]
     },
     "execution_count": 52,
     "metadata": {},
     "output_type": "execute_result"
    }
   ],
   "source": [
    "census.head(5)"
   ]
  },
  {
   "cell_type": "markdown",
   "metadata": {},
   "source": [
    "In alto sono scritti i nomi delle colonne, che costituiscono _l'indice delle colonne_\n",
    "\n",
    "A sinistra sono scritti i nomi degli stati, che costituiscono _l'indice delle righe_\n",
    "\n",
    "Gli indici **non** contano come righe o colonne del frame"
   ]
  },
  {
   "cell_type": "markdown",
   "metadata": {
    "slideshow": {
     "slide_type": "slide"
    }
   },
   "source": [
    "Da un `DataFrame` possiamo estrarre i suoi componenti:\n",
    "\n",
    "- la matrice dei dati `values`\n",
    "- l'indice delle righe `index`\n",
    "- l'indice delle colonne `columns`"
   ]
  },
  {
   "cell_type": "code",
   "execution_count": 53,
   "metadata": {},
   "outputs": [
    {
     "data": {
      "text/plain": [
       "array([[4.81012600e+06, 1.60620000e+04, 1.31171405e+05],\n",
       "       [7.31760000e+05, 6.55900000e+03, 1.47796006e+06],\n",
       "       [6.85183600e+06, 5.37490000e+04, 2.94208667e+05],\n",
       "       [2.94965000e+06, 9.05100000e+03, 1.34771893e+05]])"
      ]
     },
     "execution_count": 53,
     "metadata": {},
     "output_type": "execute_result"
    }
   ],
   "source": [
    "census.values   [:4] # prime 4 righe"
   ]
  },
  {
   "cell_type": "code",
   "execution_count": 54,
   "metadata": {},
   "outputs": [
    {
     "data": {
      "text/plain": [
       "Index(['Alabama', 'Alaska', 'Arizona', 'Arkansas'], dtype='object')"
      ]
     },
     "execution_count": 54,
     "metadata": {},
     "output_type": "execute_result"
    }
   ],
   "source": [
    "census.index   [:4] # primi 4 stati"
   ]
  },
  {
   "cell_type": "code",
   "execution_count": 55,
   "metadata": {},
   "outputs": [
    {
     "data": {
      "text/plain": [
       "Index(['population', 'from_abroad', 'area'], dtype='object')"
      ]
     },
     "execution_count": 55,
     "metadata": {},
     "output_type": "execute_result"
    }
   ],
   "source": [
    "census.columns"
   ]
  },
  {
   "cell_type": "markdown",
   "metadata": {},
   "source": [
    "Come per le matrici, possiamo ottenere il numero di righe e di colonne con `shape`"
   ]
  },
  {
   "cell_type": "code",
   "execution_count": 56,
   "metadata": {},
   "outputs": [
    {
     "data": {
      "text/plain": [
       "(51, 3)"
      ]
     },
     "execution_count": 56,
     "metadata": {},
     "output_type": "execute_result"
    }
   ],
   "source": [
    "census.shape"
   ]
  },
  {
   "cell_type": "markdown",
   "metadata": {
    "slideshow": {
     "slide_type": "slide"
    }
   },
   "source": [
    "Un modo alternativo per creare un DataFrame è passare una matrice (array 2D) con i dati e vettori con nomi di righe e colonne\n",
    "\n",
    "Ad esempio, possiamo convertire in DataFrame la matrice `state_to_state` che indica il numero di persone trasferitesi da uno stato all'altro nell'ultimo anno\n",
    "\n",
    "Creiamo il DataFrame passando i dati nella matrice e usando il vettore dei nomi `states` come indice sia delle righe (`index`) che delle colonne (`columns`)"
   ]
  },
  {
   "cell_type": "code",
   "execution_count": 104,
   "metadata": {
    "tags": []
   },
   "outputs": [],
   "source": [
    "state_to_state = pd.DataFrame(data[\"state_to_state\"], index=data[\"states\"], columns=data[\"states\"])"
   ]
  },
  {
   "cell_type": "markdown",
   "metadata": {
    "slideshow": {
     "slide_type": "slide"
    }
   },
   "source": [
    "Abbiamo così convertito la matrice in una tabella leggibile, di cui quì visualizziamo una parte... _(essendoci un numero elevato di colonne, pandas mostra solo le prime 10 e ultime 10)_"
   ]
  },
  {
   "cell_type": "code",
   "execution_count": 105,
   "metadata": {
    "tags": []
   },
   "outputs": [
    {
     "data": {
      "text/html": [
       "<div>\n",
       "<style scoped>\n",
       "    .dataframe tbody tr th:only-of-type {\n",
       "        vertical-align: middle;\n",
       "    }\n",
       "\n",
       "    .dataframe tbody tr th {\n",
       "        vertical-align: top;\n",
       "    }\n",
       "\n",
       "    .dataframe thead th {\n",
       "        text-align: right;\n",
       "    }\n",
       "</style>\n",
       "<table border=\"1\" class=\"dataframe\">\n",
       "  <thead>\n",
       "    <tr style=\"text-align: right;\">\n",
       "      <th></th>\n",
       "      <th>Alabama</th>\n",
       "      <th>Alaska</th>\n",
       "      <th>Arizona</th>\n",
       "      <th>Arkansas</th>\n",
       "      <th>California</th>\n",
       "      <th>Colorado</th>\n",
       "      <th>Connecticut</th>\n",
       "      <th>Delaware</th>\n",
       "      <th>District of Columbia</th>\n",
       "      <th>Florida</th>\n",
       "      <th>...</th>\n",
       "      <th>South Dakota</th>\n",
       "      <th>Tennessee</th>\n",
       "      <th>Texas</th>\n",
       "      <th>Utah</th>\n",
       "      <th>Vermont</th>\n",
       "      <th>Virginia</th>\n",
       "      <th>Washington</th>\n",
       "      <th>West Virginia</th>\n",
       "      <th>Wisconsin</th>\n",
       "      <th>Wyoming</th>\n",
       "    </tr>\n",
       "  </thead>\n",
       "  <tbody>\n",
       "    <tr>\n",
       "      <th>Alabama</th>\n",
       "      <td>0</td>\n",
       "      <td>576</td>\n",
       "      <td>1022</td>\n",
       "      <td>495</td>\n",
       "      <td>6611</td>\n",
       "      <td>2177</td>\n",
       "      <td>566</td>\n",
       "      <td>0</td>\n",
       "      <td>97</td>\n",
       "      <td>16631</td>\n",
       "      <td>...</td>\n",
       "      <td>52</td>\n",
       "      <td>9960</td>\n",
       "      <td>7689</td>\n",
       "      <td>525</td>\n",
       "      <td>0</td>\n",
       "      <td>3535</td>\n",
       "      <td>677</td>\n",
       "      <td>42</td>\n",
       "      <td>874</td>\n",
       "      <td>539</td>\n",
       "    </tr>\n",
       "    <tr>\n",
       "      <th>Alaska</th>\n",
       "      <td>423</td>\n",
       "      <td>0</td>\n",
       "      <td>1176</td>\n",
       "      <td>65</td>\n",
       "      <td>3593</td>\n",
       "      <td>1401</td>\n",
       "      <td>0</td>\n",
       "      <td>79</td>\n",
       "      <td>0</td>\n",
       "      <td>1100</td>\n",
       "      <td>...</td>\n",
       "      <td>370</td>\n",
       "      <td>243</td>\n",
       "      <td>1675</td>\n",
       "      <td>725</td>\n",
       "      <td>86</td>\n",
       "      <td>462</td>\n",
       "      <td>4888</td>\n",
       "      <td>0</td>\n",
       "      <td>260</td>\n",
       "      <td>291</td>\n",
       "    </tr>\n",
       "    <tr>\n",
       "      <th>Arizona</th>\n",
       "      <td>894</td>\n",
       "      <td>1946</td>\n",
       "      <td>0</td>\n",
       "      <td>1205</td>\n",
       "      <td>64756</td>\n",
       "      <td>11895</td>\n",
       "      <td>1596</td>\n",
       "      <td>420</td>\n",
       "      <td>276</td>\n",
       "      <td>9306</td>\n",
       "      <td>...</td>\n",
       "      <td>2408</td>\n",
       "      <td>1834</td>\n",
       "      <td>14923</td>\n",
       "      <td>9979</td>\n",
       "      <td>817</td>\n",
       "      <td>8809</td>\n",
       "      <td>13897</td>\n",
       "      <td>1419</td>\n",
       "      <td>6736</td>\n",
       "      <td>925</td>\n",
       "    </tr>\n",
       "    <tr>\n",
       "      <th>Arkansas</th>\n",
       "      <td>2057</td>\n",
       "      <td>103</td>\n",
       "      <td>836</td>\n",
       "      <td>0</td>\n",
       "      <td>4026</td>\n",
       "      <td>3459</td>\n",
       "      <td>186</td>\n",
       "      <td>0</td>\n",
       "      <td>69</td>\n",
       "      <td>1351</td>\n",
       "      <td>...</td>\n",
       "      <td>0</td>\n",
       "      <td>2635</td>\n",
       "      <td>13487</td>\n",
       "      <td>619</td>\n",
       "      <td>0</td>\n",
       "      <td>1333</td>\n",
       "      <td>2257</td>\n",
       "      <td>75</td>\n",
       "      <td>539</td>\n",
       "      <td>178</td>\n",
       "    </tr>\n",
       "    <tr>\n",
       "      <th>California</th>\n",
       "      <td>3045</td>\n",
       "      <td>4206</td>\n",
       "      <td>33757</td>\n",
       "      <td>4282</td>\n",
       "      <td>0</td>\n",
       "      <td>22540</td>\n",
       "      <td>2932</td>\n",
       "      <td>1372</td>\n",
       "      <td>6319</td>\n",
       "      <td>25354</td>\n",
       "      <td>...</td>\n",
       "      <td>1333</td>\n",
       "      <td>6158</td>\n",
       "      <td>39109</td>\n",
       "      <td>11114</td>\n",
       "      <td>400</td>\n",
       "      <td>14348</td>\n",
       "      <td>27973</td>\n",
       "      <td>1150</td>\n",
       "      <td>7354</td>\n",
       "      <td>2674</td>\n",
       "    </tr>\n",
       "  </tbody>\n",
       "</table>\n",
       "<p>5 rows × 51 columns</p>\n",
       "</div>"
      ],
      "text/plain": [
       "            Alabama  Alaska  Arizona  Arkansas  California  Colorado  \\\n",
       "Alabama           0     576     1022       495        6611      2177   \n",
       "Alaska          423       0     1176        65        3593      1401   \n",
       "Arizona         894    1946        0      1205       64756     11895   \n",
       "Arkansas       2057     103      836         0        4026      3459   \n",
       "California     3045    4206    33757      4282           0     22540   \n",
       "\n",
       "            Connecticut  Delaware  District of Columbia  Florida  ...  \\\n",
       "Alabama             566         0                    97    16631  ...   \n",
       "Alaska                0        79                     0     1100  ...   \n",
       "Arizona            1596       420                   276     9306  ...   \n",
       "Arkansas            186         0                    69     1351  ...   \n",
       "California         2932      1372                  6319    25354  ...   \n",
       "\n",
       "            South Dakota  Tennessee  Texas   Utah  Vermont  Virginia  \\\n",
       "Alabama               52       9960   7689    525        0      3535   \n",
       "Alaska               370        243   1675    725       86       462   \n",
       "Arizona             2408       1834  14923   9979      817      8809   \n",
       "Arkansas               0       2635  13487    619        0      1333   \n",
       "California          1333       6158  39109  11114      400     14348   \n",
       "\n",
       "            Washington  West Virginia  Wisconsin  Wyoming  \n",
       "Alabama            677             42        874      539  \n",
       "Alaska            4888              0        260      291  \n",
       "Arizona          13897           1419       6736      925  \n",
       "Arkansas          2257             75        539      178  \n",
       "California       27973           1150       7354     2674  \n",
       "\n",
       "[5 rows x 51 columns]"
      ]
     },
     "execution_count": 105,
     "metadata": {},
     "output_type": "execute_result"
    }
   ],
   "source": [
    "state_to_state.head(5)"
   ]
  },
  {
   "cell_type": "markdown",
   "metadata": {},
   "source": [
    "Ogni riga rappresenta lo stato di destinazione, ogni colonna lo stato d'origine\n",
    "\n",
    "Ad esempio, 423 persone si sono trasferite dall'Alabama all'Alaska"
   ]
  },
  {
   "cell_type": "markdown",
   "metadata": {
    "slideshow": {
     "slide_type": "slide"
    }
   },
   "source": [
    "### Estrarre ed aggiungere colonne\n",
    "\n",
    "Il DataFrame è utilizzabile come un dizionario i cui valori sono le colonne e le chiavi i loro nomi\n",
    "\n",
    "Selezionando una chiave viene restituita la colonna con quel nome in forma di serie, l'indice della serie restituita è l'indice del DataFrame"
   ]
  },
  {
   "cell_type": "code",
   "execution_count": 106,
   "metadata": {
    "tags": []
   },
   "outputs": [
    {
     "data": {
      "text/plain": [
       "Alabama    4810126\n",
       "Alaska      731760\n",
       "Arizona    6851836\n",
       "Name: population, dtype: int64"
      ]
     },
     "execution_count": 106,
     "metadata": {},
     "output_type": "execute_result"
    }
   ],
   "source": [
    "census[\"population\"]   .head(3)"
   ]
  },
  {
   "cell_type": "markdown",
   "metadata": {
    "slideshow": {
     "slide_type": "slide"
    }
   },
   "source": [
    "Seguendo la stessa logica, è possibile aggiungere colonne assegnando una serie di valori ad un nome\n",
    "\n",
    "- se una colonna col nome dato esiste già, viene sovrascritta\n",
    "- se viene passata una serie, i valori sono assegnati per corrispondenza tra etichette e indice delle righe\n",
    "- se viene passato un valore singolo (scalare), questo è replicato in tutte le righe\n",
    "\n",
    "Questo permette di creare facilmente colonne con valori derivati dalle altre\n",
    "\n",
    "Ad esempio, per aggiungere una colonna con la densità di popolazione _(senza usare la serie creata in precedenza)_:"
   ]
  },
  {
   "cell_type": "code",
   "execution_count": 107,
   "metadata": {
    "tags": []
   },
   "outputs": [],
   "source": [
    "census[\"density\"] = census[\"population\"] / census[\"area\"]"
   ]
  },
  {
   "cell_type": "markdown",
   "metadata": {
    "slideshow": {
     "slide_type": "slide"
    }
   },
   "source": [
    "La colonna viene così aggiunta come ultima nel DataFrame:"
   ]
  },
  {
   "cell_type": "code",
   "execution_count": 108,
   "metadata": {
    "tags": []
   },
   "outputs": [
    {
     "data": {
      "text/html": [
       "<div>\n",
       "<style scoped>\n",
       "    .dataframe tbody tr th:only-of-type {\n",
       "        vertical-align: middle;\n",
       "    }\n",
       "\n",
       "    .dataframe tbody tr th {\n",
       "        vertical-align: top;\n",
       "    }\n",
       "\n",
       "    .dataframe thead th {\n",
       "        text-align: right;\n",
       "    }\n",
       "</style>\n",
       "<table border=\"1\" class=\"dataframe\">\n",
       "  <thead>\n",
       "    <tr style=\"text-align: right;\">\n",
       "      <th></th>\n",
       "      <th>population</th>\n",
       "      <th>from_abroad</th>\n",
       "      <th>area</th>\n",
       "      <th>density</th>\n",
       "    </tr>\n",
       "  </thead>\n",
       "  <tbody>\n",
       "    <tr>\n",
       "      <th>Alabama</th>\n",
       "      <td>4810126</td>\n",
       "      <td>16062</td>\n",
       "      <td>1.311714e+05</td>\n",
       "      <td>36.670538</td>\n",
       "    </tr>\n",
       "    <tr>\n",
       "      <th>Alaska</th>\n",
       "      <td>731760</td>\n",
       "      <td>6559</td>\n",
       "      <td>1.477960e+06</td>\n",
       "      <td>0.495115</td>\n",
       "    </tr>\n",
       "    <tr>\n",
       "      <th>Arizona</th>\n",
       "      <td>6851836</td>\n",
       "      <td>53749</td>\n",
       "      <td>2.942087e+05</td>\n",
       "      <td>23.289035</td>\n",
       "    </tr>\n",
       "    <tr>\n",
       "      <th>Arkansas</th>\n",
       "      <td>2949650</td>\n",
       "      <td>9051</td>\n",
       "      <td>1.347719e+05</td>\n",
       "      <td>21.886240</td>\n",
       "    </tr>\n",
       "    <tr>\n",
       "      <th>California</th>\n",
       "      <td>38783436</td>\n",
       "      <td>336614</td>\n",
       "      <td>4.034682e+05</td>\n",
       "      <td>96.125142</td>\n",
       "    </tr>\n",
       "  </tbody>\n",
       "</table>\n",
       "</div>"
      ],
      "text/plain": [
       "            population  from_abroad          area    density\n",
       "Alabama        4810126        16062  1.311714e+05  36.670538\n",
       "Alaska          731760         6559  1.477960e+06   0.495115\n",
       "Arizona        6851836        53749  2.942087e+05  23.289035\n",
       "Arkansas       2949650         9051  1.347719e+05  21.886240\n",
       "California    38783436       336614  4.034682e+05  96.125142"
      ]
     },
     "execution_count": 108,
     "metadata": {},
     "output_type": "execute_result"
    }
   ],
   "source": [
    "census.head(5)"
   ]
  },
  {
   "cell_type": "markdown",
   "metadata": {
    "slideshow": {
     "slide_type": "slide"
    }
   },
   "source": [
    "### Statistiche sui dati\n",
    "\n",
    "Anche sui `DataFrame` sono disponibili i metodi `sum`, `mean`, `min`, ... per aggregare i dati\n",
    "\n",
    "Di default, restituiscono una serie con la statistica calcolata **colonna per colonna**"
   ]
  },
  {
   "cell_type": "code",
   "execution_count": 109,
   "metadata": {
    "tags": []
   },
   "outputs": [
    {
     "data": {
      "text/plain": [
       "population     6.261999e+06\n",
       "from_abroad    4.307184e+04\n",
       "area           1.793654e+05\n",
       "density        1.585860e+02\n",
       "dtype: float64"
      ]
     },
     "execution_count": 109,
     "metadata": {},
     "output_type": "execute_result"
    }
   ],
   "source": [
    "# medie su tutti gli stati\n",
    "census.mean()"
   ]
  },
  {
   "cell_type": "code",
   "execution_count": 110,
   "metadata": {
    "tags": []
   },
   "outputs": [
    {
     "data": {
      "text/plain": [
       "population     3.193620e+08\n",
       "from_abroad    2.196664e+06\n",
       "area           9.147635e+06\n",
       "density        8.087884e+03\n",
       "dtype: float64"
      ]
     },
     "execution_count": 110,
     "metadata": {},
     "output_type": "execute_result"
    }
   ],
   "source": [
    "# somme su tutti gli stati\n",
    "census.sum()"
   ]
  },
  {
   "cell_type": "markdown",
   "metadata": {},
   "source": [
    "Si noti che non sempre tutte le statistiche che si possono estrarre sono significative!\n",
    "\n",
    "Ad esempio la somma ha senso sulla popolazione e sull'area, ma non sulla densità"
   ]
  },
  {
   "cell_type": "markdown",
   "metadata": {
    "slideshow": {
     "slide_type": "slide"
    }
   },
   "source": [
    "Il metodo `describe` (applicabile anche alle serie) fornisce rapidamente un'insieme di statistiche sui valori di ciascuna colonna, utili ad analizzarne la distribuzione"
   ]
  },
  {
   "cell_type": "code",
   "execution_count": 111,
   "metadata": {
    "tags": []
   },
   "outputs": [
    {
     "data": {
      "text/html": [
       "<div>\n",
       "<style scoped>\n",
       "    .dataframe tbody tr th:only-of-type {\n",
       "        vertical-align: middle;\n",
       "    }\n",
       "\n",
       "    .dataframe tbody tr th {\n",
       "        vertical-align: top;\n",
       "    }\n",
       "\n",
       "    .dataframe thead th {\n",
       "        text-align: right;\n",
       "    }\n",
       "</style>\n",
       "<table border=\"1\" class=\"dataframe\">\n",
       "  <thead>\n",
       "    <tr style=\"text-align: right;\">\n",
       "      <th></th>\n",
       "      <th>population</th>\n",
       "      <th>from_abroad</th>\n",
       "      <th>area</th>\n",
       "      <th>density</th>\n",
       "    </tr>\n",
       "  </thead>\n",
       "  <tbody>\n",
       "    <tr>\n",
       "      <th>count</th>\n",
       "      <td>5.100000e+01</td>\n",
       "      <td>51.000000</td>\n",
       "      <td>5.100000e+01</td>\n",
       "      <td>51.000000</td>\n",
       "    </tr>\n",
       "    <tr>\n",
       "      <th>mean</th>\n",
       "      <td>6.261999e+06</td>\n",
       "      <td>43071.843137</td>\n",
       "      <td>1.793654e+05</td>\n",
       "      <td>158.585968</td>\n",
       "    </tr>\n",
       "    <tr>\n",
       "      <th>std</th>\n",
       "      <td>7.156688e+06</td>\n",
       "      <td>65074.514352</td>\n",
       "      <td>2.215125e+05</td>\n",
       "      <td>592.990817</td>\n",
       "    </tr>\n",
       "    <tr>\n",
       "      <th>min</th>\n",
       "      <td>5.775670e+05</td>\n",
       "      <td>2105.000000</td>\n",
       "      <td>1.581195e+02</td>\n",
       "      <td>0.495115</td>\n",
       "    </tr>\n",
       "    <tr>\n",
       "      <th>25%</th>\n",
       "      <td>1.737232e+06</td>\n",
       "      <td>8790.000000</td>\n",
       "      <td>8.633639e+04</td>\n",
       "      <td>18.459321</td>\n",
       "    </tr>\n",
       "    <tr>\n",
       "      <th>50%</th>\n",
       "      <td>4.385213e+06</td>\n",
       "      <td>19460.000000</td>\n",
       "      <td>1.388881e+05</td>\n",
       "      <td>40.722584</td>\n",
       "    </tr>\n",
       "    <tr>\n",
       "      <th>75%</th>\n",
       "      <td>7.026978e+06</td>\n",
       "      <td>52012.000000</td>\n",
       "      <td>2.089942e+05</td>\n",
       "      <td>86.390197</td>\n",
       "    </tr>\n",
       "    <tr>\n",
       "      <th>max</th>\n",
       "      <td>3.878344e+07</td>\n",
       "      <td>336614.000000</td>\n",
       "      <td>1.477960e+06</td>\n",
       "      <td>4250.089331</td>\n",
       "    </tr>\n",
       "  </tbody>\n",
       "</table>\n",
       "</div>"
      ],
      "text/plain": [
       "         population    from_abroad          area      density\n",
       "count  5.100000e+01      51.000000  5.100000e+01    51.000000\n",
       "mean   6.261999e+06   43071.843137  1.793654e+05   158.585968\n",
       "std    7.156688e+06   65074.514352  2.215125e+05   592.990817\n",
       "min    5.775670e+05    2105.000000  1.581195e+02     0.495115\n",
       "25%    1.737232e+06    8790.000000  8.633639e+04    18.459321\n",
       "50%    4.385213e+06   19460.000000  1.388881e+05    40.722584\n",
       "75%    7.026978e+06   52012.000000  2.089942e+05    86.390197\n",
       "max    3.878344e+07  336614.000000  1.477960e+06  4250.089331"
      ]
     },
     "execution_count": 111,
     "metadata": {},
     "output_type": "execute_result"
    }
   ],
   "source": [
    "census.describe()"
   ]
  },
  {
   "cell_type": "markdown",
   "metadata": {
    "slideshow": {
     "slide_type": "slide"
    }
   },
   "source": [
    "La tabella ottenuta mostra:\n",
    "- `count` = valori non mancanti, ovvero diversi da NA\n",
    "  - in questo caso non ci sono valori mancanti, quindi tutti i count sono pari al numero di righe (51)\n",
    "- `mean` = media\n",
    "  - ad es. la popolazione media per stato è di 6,26 milioni di abitanti\n",
    "- `std` = deviazione standard\n",
    "- `min`/`max` = valori minimo/massimo\n",
    "- `25%`/`50%`/`75%` = percentili\n",
    "  - ad es. il 25% degli stati ha densità di popolazione **inferiore a** 18,46 abitanti per km²"
   ]
  },
  {
   "cell_type": "markdown",
   "metadata": {
    "slideshow": {
     "slide_type": "slide"
    }
   },
   "source": [
    "Di default le statistiche sono calcolate per colonne (riducendo le righe), perché è l'esigenza più comune: nella tabella `census`, così come in altri casi pratici, ogni colonna ha valori in scale diverse per cui non ha senso calcolare somma, media, ecc. per riga\n",
    "\n",
    "`sum()` in un DataFrame corrisponde in pratica a `sum(0)` in una matrice NumPy\n",
    "\n",
    "Nel caso si vogliano calcolare le statistiche per righe (riducendo le colonne), si può specificare `axis=1`: questo corrisponde in pratica a `sum(1)` su una matrice NumPy"
   ]
  },
  {
   "cell_type": "markdown",
   "metadata": {
    "slideshow": {
     "slide_type": "slide"
    }
   },
   "source": [
    "Ad esempio, applicando `sum()` in modo standard al DataFrame `state_to_state`, otteniamo il totale di abitanti trasferitisi **da** ogni stato (colonne)..."
   ]
  },
  {
   "cell_type": "code",
   "execution_count": 112,
   "metadata": {
    "tags": []
   },
   "outputs": [
    {
     "data": {
      "text/plain": [
       "Alabama     99892\n",
       "Alaska      42074\n",
       "Arizona    192103\n",
       "dtype: int64"
      ]
     },
     "execution_count": 112,
     "metadata": {},
     "output_type": "execute_result"
    }
   ],
   "source": [
    "state_to_state.sum()   .head(3)"
   ]
  },
  {
   "cell_type": "markdown",
   "metadata": {},
   "source": [
    "...mentre applicando `sum(axis=1)` o in breve `sum(1)` otteniamo il totale di abitanti trasferitisi **verso** ogni stato (righe)..."
   ]
  },
  {
   "cell_type": "code",
   "execution_count": 113,
   "metadata": {
    "tags": []
   },
   "outputs": [
    {
     "data": {
      "text/plain": [
       "Alabama    122220\n",
       "Alaska      31300\n",
       "Arizona    273257\n",
       "dtype: int64"
      ]
     },
     "execution_count": 113,
     "metadata": {},
     "output_type": "execute_result"
    }
   ],
   "source": [
    "state_to_state.sum(axis=1)   .head(3)"
   ]
  },
  {
   "cell_type": "markdown",
   "metadata": {},
   "source": [
    "...che è esattamente quanto riportato nella serie `other_state`: possiamo verificarlo col metodo `equals` che indica se due serie sono identiche"
   ]
  },
  {
   "cell_type": "code",
   "execution_count": 114,
   "metadata": {
    "tags": []
   },
   "outputs": [
    {
     "data": {
      "text/plain": [
       "True"
      ]
     },
     "execution_count": 114,
     "metadata": {},
     "output_type": "execute_result"
    }
   ],
   "source": [
    "state_to_state.sum(axis=1).equals(other_state)"
   ]
  },
  {
   "cell_type": "markdown",
   "metadata": {
    "slideshow": {
     "slide_type": "slide"
    }
   },
   "source": [
    "### Esercizio 4: Operazioni sui DataFrame\n",
    "\n",
    "Utilizzando i frame `census` e `state_to_state` (senza utilizzare le serie usate in precedenza), ricavare\n",
    "\n",
    "- **(4a)** la superficie dello stato più grande\n",
    "- **(4b)** il numero totale di persone emigrate dall'Arizona ad un altro stato\n",
    "- **(4c)** il nome dello stato verso cui sono immigrate meno persone dagli altri stati\n",
    "  - promemoria per `state_to_state`: colonna = stato di origine, riga = stato di destinazione"
   ]
  },
  {
   "cell_type": "code",
   "execution_count": 115,
   "metadata": {
    "tags": []
   },
   "outputs": [
    {
     "data": {
      "text/plain": [
       "'Vermont'"
      ]
     },
     "execution_count": 115,
     "metadata": {},
     "output_type": "execute_result"
    }
   ],
   "source": [
    "#a\n",
    "census[\"area\"].max()\n",
    "#b\n",
    "state_to_state[\"Arizona\"].sum()\n",
    "#c\n",
    "state_to_state.sum(axis=1).idxmin()"
   ]
  },
  {
   "cell_type": "markdown",
   "metadata": {
    "slideshow": {
     "slide_type": "slide"
    }
   },
   "source": [
    "### Selezione\n",
    "\n",
    "Per selezionare una porzione arbitraria di DataFrame, vanno indicate righe e colonne da includere\n",
    "\n",
    "Esistono diversi _selettori_, che consentono di selezionare parti di un DataFrame `X` in modo diverso:\n",
    "- `X.loc[...]` seleziona righe e colonne specificate **per etichetta** (es.: colonna \"population\")\n",
    "- `X.iloc[...]` seleziona righe e colonne specificate **per posizione** (es.: colonna 0)\n",
    "\n",
    "In entrambi i casi tra le parentesi vanno specificate righe e colonne da selezionare, come avviene nelle matrici\n",
    "- si può selezionare per valore singolo, intervallo, lista di valori o serie booleana con stesso indice\n",
    "- `:` indica di selezionare tutte le righe o le colonne, se usato per le colonne può essere omesso"
   ]
  },
  {
   "cell_type": "markdown",
   "metadata": {
    "slideshow": {
     "slide_type": "slide"
    }
   },
   "source": [
    "Ad esempio per selezionare facilmente solo le prime righe e colonne di un DataFrame posso usare `iloc` per specificare gli intervalli per posizione:"
   ]
  },
  {
   "cell_type": "code",
   "execution_count": 116,
   "metadata": {
    "tags": []
   },
   "outputs": [
    {
     "data": {
      "text/html": [
       "<div>\n",
       "<style scoped>\n",
       "    .dataframe tbody tr th:only-of-type {\n",
       "        vertical-align: middle;\n",
       "    }\n",
       "\n",
       "    .dataframe tbody tr th {\n",
       "        vertical-align: top;\n",
       "    }\n",
       "\n",
       "    .dataframe thead th {\n",
       "        text-align: right;\n",
       "    }\n",
       "</style>\n",
       "<table border=\"1\" class=\"dataframe\">\n",
       "  <thead>\n",
       "    <tr style=\"text-align: right;\">\n",
       "      <th></th>\n",
       "      <th>Alabama</th>\n",
       "      <th>Alaska</th>\n",
       "      <th>Arizona</th>\n",
       "      <th>Arkansas</th>\n",
       "      <th>California</th>\n",
       "    </tr>\n",
       "  </thead>\n",
       "  <tbody>\n",
       "    <tr>\n",
       "      <th>Alabama</th>\n",
       "      <td>0</td>\n",
       "      <td>576</td>\n",
       "      <td>1022</td>\n",
       "      <td>495</td>\n",
       "      <td>6611</td>\n",
       "    </tr>\n",
       "    <tr>\n",
       "      <th>Alaska</th>\n",
       "      <td>423</td>\n",
       "      <td>0</td>\n",
       "      <td>1176</td>\n",
       "      <td>65</td>\n",
       "      <td>3593</td>\n",
       "    </tr>\n",
       "    <tr>\n",
       "      <th>Arizona</th>\n",
       "      <td>894</td>\n",
       "      <td>1946</td>\n",
       "      <td>0</td>\n",
       "      <td>1205</td>\n",
       "      <td>64756</td>\n",
       "    </tr>\n",
       "  </tbody>\n",
       "</table>\n",
       "</div>"
      ],
      "text/plain": [
       "         Alabama  Alaska  Arizona  Arkansas  California\n",
       "Alabama        0     576     1022       495        6611\n",
       "Alaska       423       0     1176        65        3593\n",
       "Arizona      894    1946        0      1205       64756"
      ]
     },
     "execution_count": 116,
     "metadata": {},
     "output_type": "execute_result"
    }
   ],
   "source": [
    "state_to_state.iloc[:3, :5]  # forma breve per [0:3, 0:5]"
   ]
  },
  {
   "cell_type": "markdown",
   "metadata": {},
   "source": [
    "Selezionando una **singola riga** di un DataFrame, **otteniamo una serie** con i valori di tutte le colonne"
   ]
  },
  {
   "cell_type": "code",
   "execution_count": 117,
   "metadata": {
    "tags": []
   },
   "outputs": [
    {
     "data": {
      "text/plain": [
       "population     3.878344e+07\n",
       "from_abroad    3.366140e+05\n",
       "area           4.034682e+05\n",
       "density        9.612514e+01\n",
       "Name: California, dtype: float64"
      ]
     },
     "execution_count": 117,
     "metadata": {},
     "output_type": "execute_result"
    }
   ],
   "source": [
    "census.loc[\"California\", :]   # \", :\" può essere omesso"
   ]
  },
  {
   "cell_type": "markdown",
   "metadata": {
    "slideshow": {
     "slide_type": "slide"
    }
   },
   "source": [
    "Usando serie booleane, possiamo selezionare righe (o colonne) per condizioni"
   ]
  },
  {
   "cell_type": "code",
   "execution_count": 118,
   "metadata": {
    "tags": []
   },
   "outputs": [
    {
     "data": {
      "text/html": [
       "<div>\n",
       "<style scoped>\n",
       "    .dataframe tbody tr th:only-of-type {\n",
       "        vertical-align: middle;\n",
       "    }\n",
       "\n",
       "    .dataframe tbody tr th {\n",
       "        vertical-align: top;\n",
       "    }\n",
       "\n",
       "    .dataframe thead th {\n",
       "        text-align: right;\n",
       "    }\n",
       "</style>\n",
       "<table border=\"1\" class=\"dataframe\">\n",
       "  <thead>\n",
       "    <tr style=\"text-align: right;\">\n",
       "      <th></th>\n",
       "      <th>population</th>\n",
       "      <th>from_abroad</th>\n",
       "      <th>area</th>\n",
       "      <th>density</th>\n",
       "    </tr>\n",
       "  </thead>\n",
       "  <tbody>\n",
       "    <tr>\n",
       "      <th>District of Columbia</th>\n",
       "      <td>672022</td>\n",
       "      <td>11155</td>\n",
       "      <td>158.1195</td>\n",
       "      <td>4250.089331</td>\n",
       "    </tr>\n",
       "    <tr>\n",
       "      <th>Vermont</th>\n",
       "      <td>619387</td>\n",
       "      <td>2113</td>\n",
       "      <td>23871.1494</td>\n",
       "      <td>25.947096</td>\n",
       "    </tr>\n",
       "    <tr>\n",
       "      <th>Wyoming</th>\n",
       "      <td>577567</td>\n",
       "      <td>2105</td>\n",
       "      <td>251471.2326</td>\n",
       "      <td>2.296752</td>\n",
       "    </tr>\n",
       "  </tbody>\n",
       "</table>\n",
       "</div>"
      ],
      "text/plain": [
       "                      population  from_abroad         area      density\n",
       "District of Columbia      672022        11155     158.1195  4250.089331\n",
       "Vermont                   619387         2113   23871.1494    25.947096\n",
       "Wyoming                   577567         2105  251471.2326     2.296752"
      ]
     },
     "execution_count": 118,
     "metadata": {},
     "output_type": "execute_result"
    }
   ],
   "source": [
    "# righe relative agli Stati con meno di 700.000 abitanti\n",
    "census.loc[census[\"population\"] < 700000]"
   ]
  },
  {
   "cell_type": "code",
   "execution_count": 119,
   "metadata": {
    "tags": []
   },
   "outputs": [
    {
     "data": {
      "text/plain": [
       "Delaware                 186.670404\n",
       "District of Columbia    4250.089331\n",
       "Rhode Island             390.537622\n",
       "Name: density, dtype: float64"
      ]
     },
     "execution_count": 119,
     "metadata": {},
     "output_type": "execute_result"
    }
   ],
   "source": [
    "# densità di popolazione degli Stati con superficie minore di 10.000 km²\n",
    "census.loc[census[\"area\"] < 10000, \"density\"]"
   ]
  },
  {
   "cell_type": "markdown",
   "metadata": {},
   "source": [
    "Per selezionare righe per posizione e colonne per etichetta (o viceversa), si possono concatenare le applicazioni di `loc` e `iloc`"
   ]
  },
  {
   "cell_type": "code",
   "execution_count": 120,
   "metadata": {
    "tags": []
   },
   "outputs": [
    {
     "data": {
      "text/plain": [
       "Alabama    4810126\n",
       "Alaska      731760\n",
       "Arizona    6851836\n",
       "Name: population, dtype: int64"
      ]
     },
     "execution_count": 120,
     "metadata": {},
     "output_type": "execute_result"
    }
   ],
   "source": [
    "# prime tre righe, colonna \"population\"\n",
    "census.iloc[:3].loc[:, \"population\"]"
   ]
  },
  {
   "cell_type": "markdown",
   "metadata": {},
   "source": [
    "`loc` e `iloc` si possono usare con la stessa logica anche sulle serie, selezionando su una sola dimensione invece di due (`loc` equivale alla selezione normale per etichette)"
   ]
  },
  {
   "cell_type": "code",
   "execution_count": 121,
   "metadata": {
    "tags": []
   },
   "outputs": [
    {
     "data": {
      "text/plain": [
       "Colorado                 5476928\n",
       "Connecticut              3541758\n",
       "Delaware                  942073\n",
       "District of Columbia      672022\n",
       "Florida                 20401575\n",
       "dtype: int64"
      ]
     },
     "execution_count": 121,
     "metadata": {},
     "output_type": "execute_result"
    }
   ],
   "source": [
    "# valori di population dal 6° al 10°\n",
    "population.iloc[5:10]"
   ]
  },
  {
   "cell_type": "markdown",
   "metadata": {
    "slideshow": {
     "slide_type": "slide"
    }
   },
   "source": [
    "### Ordinamento\n",
    "\n",
    "Sia serie che DataFrame forniscono metodi per cambiare l'ordinamento dei dati\n",
    "\n",
    "La funzione `sort_index` ordina una serie o le righe di un frame secondo le etichette (nel nostro caso le righe sono già ordinate alfabeticamente per etichetta)\n",
    "\n",
    "`sort_values` invece ordina una serie secondo i valori in essa o le righe di un frame secondo i valori di una colonna specificata per nome; è possibile specificare una lista di più colonne per risolvere i pareggi, come nella clausola `ORDER BY` di SQL\n",
    "\n",
    "In entrambi i metodi possiamo specificare:\n",
    "\n",
    "- `axis=1` (se applicato ad un frame) per cambiare l'ordinamento delle colonne invece delle righe\n",
    "- `ascending=False` per applicare un ordinamento decrescente\n",
    "\n",
    "Possiamo ad esempio per visualizzare i 5 Stati più popolati"
   ]
  },
  {
   "cell_type": "code",
   "execution_count": 122,
   "metadata": {
    "tags": []
   },
   "outputs": [
    {
     "data": {
      "text/html": [
       "<div>\n",
       "<style scoped>\n",
       "    .dataframe tbody tr th:only-of-type {\n",
       "        vertical-align: middle;\n",
       "    }\n",
       "\n",
       "    .dataframe tbody tr th {\n",
       "        vertical-align: top;\n",
       "    }\n",
       "\n",
       "    .dataframe thead th {\n",
       "        text-align: right;\n",
       "    }\n",
       "</style>\n",
       "<table border=\"1\" class=\"dataframe\">\n",
       "  <thead>\n",
       "    <tr style=\"text-align: right;\">\n",
       "      <th></th>\n",
       "      <th>population</th>\n",
       "      <th>from_abroad</th>\n",
       "      <th>area</th>\n",
       "      <th>density</th>\n",
       "    </tr>\n",
       "  </thead>\n",
       "  <tbody>\n",
       "    <tr>\n",
       "      <th>California</th>\n",
       "      <td>38783436</td>\n",
       "      <td>336614</td>\n",
       "      <td>403468.1798</td>\n",
       "      <td>96.125142</td>\n",
       "    </tr>\n",
       "    <tr>\n",
       "      <th>Texas</th>\n",
       "      <td>27472626</td>\n",
       "      <td>234749</td>\n",
       "      <td>676590.1289</td>\n",
       "      <td>40.604533</td>\n",
       "    </tr>\n",
       "    <tr>\n",
       "      <th>Florida</th>\n",
       "      <td>20401575</td>\n",
       "      <td>232838</td>\n",
       "      <td>138888.1284</td>\n",
       "      <td>146.892144</td>\n",
       "    </tr>\n",
       "    <tr>\n",
       "      <th>New York</th>\n",
       "      <td>19526443</td>\n",
       "      <td>166069</td>\n",
       "      <td>122057.3760</td>\n",
       "      <td>159.977575</td>\n",
       "    </tr>\n",
       "    <tr>\n",
       "      <th>Illinois</th>\n",
       "      <td>12654142</td>\n",
       "      <td>65886</td>\n",
       "      <td>143794.0287</td>\n",
       "      <td>88.001860</td>\n",
       "    </tr>\n",
       "  </tbody>\n",
       "</table>\n",
       "</div>"
      ],
      "text/plain": [
       "            population  from_abroad         area     density\n",
       "California    38783436       336614  403468.1798   96.125142\n",
       "Texas         27472626       234749  676590.1289   40.604533\n",
       "Florida       20401575       232838  138888.1284  146.892144\n",
       "New York      19526443       166069  122057.3760  159.977575\n",
       "Illinois      12654142        65886  143794.0287   88.001860"
      ]
     },
     "execution_count": 122,
     "metadata": {},
     "output_type": "execute_result"
    }
   ],
   "source": [
    "census.sort_values(\"population\", ascending=False).head(5)"
   ]
  },
  {
   "cell_type": "markdown",
   "metadata": {},
   "source": [
    "Sia questi metodi che altri che vedremo per trasformare serie o DataFrame **restistuiscono un nuovo oggetto** senza modificare quello esistente.\n",
    "\n",
    "Ad esempio in questo caso il frame `census` non è stato modificato, bensì è stato creato un nuovo frame che è stato restituito da `sort_values` per essere visualizzato.\n",
    "\n",
    "È comune in pandas applicare trasformazioni composte di più passaggi concatenando chiamate a diversi metodi, come in questo caso, in cui a `sort_values` è seguito `head`.\n",
    "\n",
    "_In questi e in altri metodi che vedremo è possibile specificare `inplace=True` per modificare l'oggetto esistente invece di restituirne un altro. Questo però è generalmente sconsigliato, specialmente lavorando in Jupyter o simili, per mantenere il codice più facilmente interpretabile._"
   ]
  },
  {
   "cell_type": "markdown",
   "metadata": {
    "slideshow": {
     "slide_type": "slide"
    }
   },
   "source": [
    "### Esercizio 5: Selezione da DataFrame\n",
    "\n",
    "Utilizzando il frame `census` (senza utilizzare le serie usate in precedenza), ricavare\n",
    "\n",
    "- **(5a)** la superficie della California\n",
    "- **(5b)** la popolazione (colonna 0) del 13° stato nella tabella\n",
    "- **(5c)** la densità di popolazione dello stato con superficie maggiore\n",
    "- **(5d)** la popolazione totale degli stati con nome che inizia per M\n",
    "- **(5e)** la superficie complessiva degli stati con almeno 20 milioni di abitanti\n",
    "- **(5f)** la popolazione media degli stati con almeno l'1% di popolazione immigrato dall'estero (`from_abroad`) nell'ultimo anno\n",
    "- **(5g)** la superficie totale dei 5 stati con densità di popolazione minore\n",
    "- **(5h)** la popolazione (colonna 0) del 3° stato con superficie maggiore"
   ]
  },
  {
   "cell_type": "code",
   "execution_count": 137,
   "metadata": {
    "tags": []
   },
   "outputs": [
    {
     "data": {
      "text/plain": [
       "38783436"
      ]
     },
     "execution_count": 137,
     "metadata": {},
     "output_type": "execute_result"
    }
   ],
   "source": [
    "#a\n",
    "census.loc[\"California\", \"area\"]\n",
    "#b\n",
    "census.iloc[12, 0]\n",
    "#c\n",
    "census.loc[census[\"area\"].idxmax(), \"density\"]\n",
    "#d\n",
    "census.loc[\"M\":\"N\", \"population\"].sum()\n",
    "#e\n",
    "census.loc[census[\"population\"] >= 20_000_000, \"area\"].sum()\n",
    "#f\n",
    "census.loc[census[\"from_abroad\"]/census[\"population\"] >= 0.01, \"population\"].mean()\n",
    "#g\n",
    "census.sort_values(\"density\").head(5)[\"area\"].sum()\n",
    "#h\n",
    "census.sort_values(\"area\", ascending=False).iloc[2, 0]\n"
   ]
  },
  {
   "cell_type": "markdown",
   "metadata": {},
   "source": [
    "## Creazione di grafici con matplotlib "
   ]
  },
  {
   "cell_type": "markdown",
   "metadata": {},
   "source": [
    "I grafici sono in generale utili nell'analisi preliminare di dati per visualizzare come sono distribuiti i valori in una serie di dati\n",
    "\n",
    "**matplotlib** è tra le librerie Python più diffuse per la creazione di svariati tipi di grafici (a barre, a torta, a dispersione, ...)\n",
    "\n",
    "Iniziamo in questo laboratorio a vedere come creare alcune tipologie di grafici, vedremo nel prossimo altri tipi di grafici e opzioni più avanzate\n",
    "\n",
    "Vediamo due approcci alternativi per creare dei grafici con matplotlib\n",
    "\n",
    "- invocando direttamente le funzioni dell'interfaccia semplificata `pyplot` (che riprende quella di Matlab), a cui vanno esplicitamente passati i dati da graficare\n",
    "- utilizzando i metodi `plot.*` forniti da pandas per creare rapidamente grafici dai dati contenuti in serie e DataFrame"
   ]
  },
  {
   "cell_type": "markdown",
   "metadata": {},
   "source": [
    "Per iniziare, importiamo l'interfaccia `pyplot` con l'alias convenzionale `plt`"
   ]
  },
  {
   "cell_type": "code",
   "execution_count": 143,
   "metadata": {
    "tags": []
   },
   "outputs": [],
   "source": [
    "import matplotlib.pyplot as plt"
   ]
  },
  {
   "cell_type": "markdown",
   "metadata": {},
   "source": [
    "È inoltre comune eseguire il seguente comando per assicurarsi che i grafici siano disegnati all'interno dei file Jupyter (necessario in versioni più vecchie di Jupyter)"
   ]
  },
  {
   "cell_type": "code",
   "execution_count": 144,
   "metadata": {
    "tags": []
   },
   "outputs": [],
   "source": [
    "%matplotlib inline"
   ]
  },
  {
   "cell_type": "markdown",
   "metadata": {},
   "source": [
    "### Grafici a barre\n",
    "\n",
    "Un grafico a barre raffigura una serie di valori come barre di diversa altezza, consentendone un confronto rapido\n",
    "\n",
    "Si crea con la funzione `bar`, indicando in ordine le etichette da assegnare alle barre e i rispettivi valori da usare come altezze\n",
    "\n",
    "I dati possono essere passati in qualsiasi oggetto _array-like_ (liste, array NumPy, serie pandas, ...)"
   ]
  },
  {
   "cell_type": "code",
   "execution_count": 145,
   "metadata": {
    "tags": []
   },
   "outputs": [
    {
     "data": {
      "text/plain": [
       "<BarContainer object of 4 artists>"
      ]
     },
     "execution_count": 145,
     "metadata": {},
     "output_type": "execute_result"
    },
    {
     "data": {
      "image/png": "[encoded data removed]",
      "text/plain": [
       "<Figure size 640x480 with 1 Axes>"
      ]
     },
     "metadata": {},
     "output_type": "display_data"
    }
   ],
   "source": [
    "plt.bar(\n",
    "    [ \"two\", \"four\",   \"pi\",    \"e\"],  # etichette\n",
    "    [     2,      4,   3.14,   2.71]   # valori\n",
    ")"
   ]
  },
  {
   "cell_type": "markdown",
   "metadata": {},
   "source": [
    "Possiamo utilizzarli ad esempio per visualizzare i valori di una serie\n",
    "\n",
    "Prendiamo come esempio la popolazione dei paesi della costa ovest\n",
    "\n",
    "Essendo numeri molto grandi, matplotlib li visualizza in notazione scientifica (\"1e7\" = decine di milioni)"
   ]
  },
  {
   "cell_type": "code",
   "execution_count": 146,
   "metadata": {
    "tags": []
   },
   "outputs": [
    {
     "data": {
      "text/plain": [
       "Washington     7202119\n",
       "Oregon         4052221\n",
       "California    38783436\n",
       "dtype: int64"
      ]
     },
     "execution_count": 146,
     "metadata": {},
     "output_type": "execute_result"
    }
   ],
   "source": [
    "west_coast_population = population[west_coast]\n",
    "west_coast_population"
   ]
  },
  {
   "cell_type": "code",
   "execution_count": 147,
   "metadata": {
    "tags": []
   },
   "outputs": [
    {
     "data": {
      "image/png": "[encoded data removed]",
      "text/plain": [
       "<Figure size 640x480 with 1 Axes>"
      ]
     },
     "metadata": {},
     "output_type": "display_data"
    }
   ],
   "source": [
    "plt.bar(\n",
    "    west_coast_population.index,  # etichette\n",
    "    west_coast_population.values  # valori\n",
    ");  # <-- aggiungere \";\" alla fine per non visualizzare l'output testuale \"<...>\""
   ]
  },
  {
   "cell_type": "markdown",
   "metadata": {},
   "source": [
    "Come alternativa più semplice, si può usare il metodo `plot.bar` disponibile sulle strutture dati pandas, che crea un grafico"
   ]
  },
  {
   "cell_type": "code",
   "execution_count": 148,
   "metadata": {
    "tags": []
   },
   "outputs": [
    {
     "data": {
      "image/png": "[encoded data removed]",
      "text/plain": [
       "<Figure size 640x480 with 1 Axes>"
      ]
     },
     "metadata": {},
     "output_type": "display_data"
    }
   ],
   "source": [
    "west_coast_population.plot.bar();"
   ]
  },
  {
   "cell_type": "markdown",
   "metadata": {},
   "source": [
    "Nei grafici successivi visualizziamo la popolazione di tutti i 51 stati in milioni di abitanti (dividiamo tutti i valori per 1.000.000), in modo da leggere più facilmente l'asse y"
   ]
  },
  {
   "cell_type": "code",
   "execution_count": 149,
   "metadata": {
    "tags": []
   },
   "outputs": [],
   "source": [
    "population_mln = population / 1_000_000"
   ]
  },
  {
   "cell_type": "markdown",
   "metadata": {},
   "source": [
    "Tramite la funzione `figure` è possibile configurare alcune opzioni del grafico costruito con le istruzioni successive nella medesima cella di codice\n",
    "\n",
    "In particolare possiamo regolare le dimensioni del grafico `figsize` in forma di tupla `(larghezza, altezza)`\n",
    "\n",
    "Utilizziamola creare un grafico più largo con la popolazione di tutti gli stati"
   ]
  },
  {
   "cell_type": "code",
   "execution_count": 150,
   "metadata": {
    "tags": []
   },
   "outputs": [
    {
     "data": {
      "image/png": "[encoded data removed]",
      "text/plain": [
       "<Figure size 1600x400 with 1 Axes>"
      ]
     },
     "metadata": {},
     "output_type": "display_data"
    }
   ],
   "source": [
    "plt.figure(figsize=(16, 4))\n",
    "population_mln.plot.bar();"
   ]
  },
  {
   "cell_type": "markdown",
   "metadata": {},
   "source": [
    "L'opzione `figsize` può anche essere passata direttamente ai metodi `plot.*` di pandas"
   ]
  },
  {
   "cell_type": "code",
   "execution_count": 96,
   "metadata": {},
   "outputs": [
    {
     "data": {
      "image/png": "[encoded data removed]",
      "text/plain": [
       "<Figure size 1600x400 with 1 Axes>"
      ]
     },
     "metadata": {},
     "output_type": "display_data"
    }
   ],
   "source": [
    "population_mln.plot.bar(figsize=(16, 4));"
   ]
  },
  {
   "cell_type": "markdown",
   "metadata": {},
   "source": [
    "Con la funzione `grid` è possibile aggiungere al grafico una griglia su entrambi gli assi o su un solo asse (\"x\" o \"y\") indicato\n",
    "\n",
    "_(per aggiungerla ad entrambi gli assi usare `plt.grid()` oppure specificare `grid=True` in `plot.bar`)_"
   ]
  },
  {
   "cell_type": "code",
   "execution_count": 151,
   "metadata": {
    "tags": []
   },
   "outputs": [
    {
     "data": {
      "image/png": "[encoded data removed]",
      "text/plain": [
       "<Figure size 1600x400 with 1 Axes>"
      ]
     },
     "metadata": {},
     "output_type": "display_data"
    }
   ],
   "source": [
    "population_mln.plot.bar(figsize=(16, 4));\n",
    "plt.grid(axis=\"y\");"
   ]
  },
  {
   "cell_type": "markdown",
   "metadata": {},
   "source": [
    "Con le funzioni `title`, `xlabel` e `ylabel` è possibile specificare un titolo del grafico, un'etichetta per l'asse X e una per l'asse Y"
   ]
  },
  {
   "cell_type": "code",
   "execution_count": 98,
   "metadata": {},
   "outputs": [
    {
     "data": {
      "image/png": "[encoded data removed]",
      "text/plain": [
       "<Figure size 1600x400 with 1 Axes>"
      ]
     },
     "metadata": {},
     "output_type": "display_data"
    }
   ],
   "source": [
    "population_mln.plot.bar(figsize=(16, 4))\n",
    "plt.grid(axis=\"y\")\n",
    "plt.title(\"Popolazione stati USA nel 2016\")\n",
    "plt.xlabel(\"Stato\")\n",
    "plt.ylabel(\"Popolazione (milioni di abitanti)\");"
   ]
  },
  {
   "cell_type": "markdown",
   "metadata": {},
   "source": [
    "### Box plot\n",
    "\n",
    "Un _box plot_ visualizza in modo compatto le statistiche di base di una o più serie di dati\n",
    "\n",
    "In pratica fornisce visivamente molte delle informazioni restituite dal metodo `describe` visto sopra\n",
    "\n",
    "Vediamolo ad esempio sulla popolazione degli stati usando la funzione `boxplot`..."
   ]
  },
  {
   "cell_type": "code",
   "execution_count": 152,
   "metadata": {
    "tags": []
   },
   "outputs": [
    {
     "data": {
      "image/png": "[encoded data removed]",
      "text/plain": [
       "<Figure size 400x600 with 1 Axes>"
      ]
     },
     "metadata": {},
     "output_type": "display_data"
    }
   ],
   "source": [
    "plt.figure(figsize=(4, 6))\n",
    "plt.boxplot(population_mln, showmeans=True)\n",
    "plt.grid(axis=\"y\");"
   ]
  },
  {
   "cell_type": "markdown",
   "metadata": {},
   "source": [
    "...o alternativamente il metodo `plot.box`"
   ]
  },
  {
   "cell_type": "code",
   "execution_count": 100,
   "metadata": {},
   "outputs": [
    {
     "data": {
      "image/png": "[encoded data removed]",
      "text/plain": [
       "<Figure size 400x600 with 1 Axes>"
      ]
     },
     "metadata": {},
     "output_type": "display_data"
    }
   ],
   "source": [
    "population_mln.plot.box(showmeans=True, figsize=(4, 6))\n",
    "plt.grid(axis=\"y\");"
   ]
  },
  {
   "cell_type": "markdown",
   "metadata": {},
   "source": [
    "Il grafico contiene i seguenti componenti\n",
    "\n",
    "- Gli estremi inferiore e superiore del rettangolo (circa 2 e 7 milioni di abitanti) sono il **primo e terzo quartile** ($Q_1$ e $Q_3$) dei dati, visualizzati come \"25%\" e \"75%\" nell'output di `describe`\n",
    "  - il rettangolo rappresenta in pratica il 50% \"centrale\" dei valori\n",
    "  - la distanza dal primo al terzo quartile ($Q_3-Q_1$) è detta _interquartile range_ (IQR)\n",
    "- La linea centrale (circa 4 milioni) indica la **mediana**, ovvero il secondo quartile (\"50%\" in `describe`)\n",
    "- I cerchi rappresentano i valori molto distanti dalla mediana, detti **outlier**\n",
    "  - nello specifico, sono outlier tutti i valori che sono distanti dal quartile più vicino più di 1,5 volte l'IQR\n",
    "  - formalmente, un valore $x$ è outlier se $x < Q_1 - 1.5\\cdot{IQR}$ oppure $x > Q_3 + 1.5\\cdot{IQR}$\n",
    "  - 1,5 è un valore usato convenzionalmente, che può essere cambiato col parametro `whis` di `boxplot`/`box`\n",
    "- I \"baffi\" (_whiskers_) indicano i valori **minimo** e **massimo** dei dati, escludendo gli outlier\n",
    "- Il triangolo (circa 6 milioni) indica la **media**, che viene omessa se non si specifica `showmeans=True`\n",
    "\n",
    "Si riporta sotto l'output di `describe` sulla medesima serie, da cui ritornano i valori evidenziati nel box plot"
   ]
  },
  {
   "cell_type": "code",
   "execution_count": 101,
   "metadata": {},
   "outputs": [
    {
     "data": {
      "text/plain": [
       "count    51.000000\n",
       "mean      6.261999\n",
       "std       7.156688\n",
       "min       0.577567\n",
       "25%       1.737232\n",
       "50%       4.385213\n",
       "75%       7.026977\n",
       "max      38.783436\n",
       "dtype: float64"
      ]
     },
     "execution_count": 101,
     "metadata": {},
     "output_type": "execute_result"
    }
   ],
   "source": [
    "population_mln.describe()"
   ]
  },
  {
   "cell_type": "markdown",
   "metadata": {},
   "source": [
    "Dagli outlier nella parte superiore e dalla media superiore alla mediana, si intuisce ad occhio che la serie `population` ha pochi valori molto superiori alla mediana\n",
    "\n",
    "Per confronto, si osservi sotto il box plot di un array di 1.000 valori casuali con distribuzione normale: il grafico tende ad essere simmetrico (media = mediana, pochi outlier distribuiti equamente)"
   ]
  },
  {
   "cell_type": "code",
   "execution_count": 102,
   "metadata": {},
   "outputs": [
    {
     "data": {
      "image/png": "[encoded data removed]",
      "text/plain": [
       "<Figure size 400x600 with 1 Axes>"
      ]
     },
     "metadata": {},
     "output_type": "display_data"
    }
   ],
   "source": [
    "np.random.seed(123)\n",
    "random_values = np.random.normal(size=1000)\n",
    "plt.figure(figsize=(4, 6))\n",
    "plt.boxplot(random_values, showmeans=True)\n",
    "plt.grid(axis=\"y\");"
   ]
  },
  {
   "cell_type": "markdown",
   "metadata": {},
   "source": [
    "Invocando `plot.box` su un DataFrame viene generato un grafico unico con i box plot di tutte le colonne numeriche\n",
    "\n",
    "Notare che un grafico con più variabili può essere difficilmente leggibile se le scale di valori sono molto diverse, come in questo caso"
   ]
  },
  {
   "cell_type": "code",
   "execution_count": 103,
   "metadata": {},
   "outputs": [
    {
     "data": {
      "image/png": "[encoded data removed]",
      "text/plain": [
       "<Figure size 640x480 with 1 Axes>"
      ]
     },
     "metadata": {},
     "output_type": "display_data"
    }
   ],
   "source": [
    "census.plot.box(showmeans=True)\n",
    "plt.grid(axis=\"y\");"
   ]
  },
  {
   "cell_type": "code",
   "execution_count": 104,
   "metadata": {},
   "outputs": [
    {
     "data": {
      "image/png": "[encoded data removed]",
      "text/plain": [
       "<Figure size 640x480 with 1 Axes>"
      ]
     },
     "metadata": {},
     "output_type": "display_data"
    }
   ],
   "source": [
    "# grafico solo su due colonne, parzialmente più leggibile\n",
    "census[[\"from_abroad\", \"area\"]].plot.box(showmeans=True)\n",
    "plt.grid(axis=\"y\");"
   ]
  },
  {
   "cell_type": "markdown",
   "metadata": {},
   "source": [
    "### Esercizio 6: Creazione di grafici\n",
    "\n",
    "- **(6a)** Visualizzare un diagramma a barre con la densità di popolazione degli stati, ordinandoli per densità decrescente\n",
    "- **(6b)** Visualizzare in un boxplot la distribuzione della popolazione dei soli stati con superficie superiore a 100.000 mi²"
   ]
  }
 ],
 "metadata": {
  "kernelspec": {
   "display_name": "Python 3 (ipykernel)",
   "language": "python",
   "name": "python3"
  },
  "language_info": {
   "codemirror_mode": {
    "name": "ipython",
    "version": 3
   },
   "file_extension": ".py",
   "mimetype": "text/x-python",
   "name": "python",
   "nbconvert_exporter": "python",
   "pygments_lexer": "ipython3",
   "version": "3.11.5"
  }
 },
 "nbformat": 4,
 "nbformat_minor": 4
}
